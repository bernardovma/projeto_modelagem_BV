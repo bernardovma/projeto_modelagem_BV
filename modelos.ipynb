{
 "cells": [
  {
   "cell_type": "code",
   "execution_count": 105,
   "metadata": {},
   "outputs": [],
   "source": [
    "import plotly.express as px\n",
    "import pandas as pd\n",
    "import numpy as np\n",
    "import statsmodels.api as sm\n",
    "import matplotlib.pyplot as plt\n",
    "import seaborn as sns\n",
    "from sklearn.metrics import roc_curve, auc\n",
    "from sklearn.metrics import confusion_matrix"
   ]
  },
  {
   "cell_type": "code",
   "execution_count": 106,
   "metadata": {},
   "outputs": [
    {
     "data": {
      "text/plain": [
       "<bound method NDFrame.head of            id diagnosis  radius_mean  texture_mean  perimeter_mean  area_mean  \\\n",
       "0      842302         M        17.99         10.38          122.80     1001.0   \n",
       "1      842517         M        20.57         17.77          132.90     1326.0   \n",
       "2    84300903         M        19.69         21.25          130.00     1203.0   \n",
       "3    84348301         M        11.42         20.38           77.58      386.1   \n",
       "4    84358402         M        20.29         14.34          135.10     1297.0   \n",
       "..        ...       ...          ...           ...             ...        ...   \n",
       "564    926424         M        21.56         22.39          142.00     1479.0   \n",
       "565    926682         M        20.13         28.25          131.20     1261.0   \n",
       "566    926954         M        16.60         28.08          108.30      858.1   \n",
       "567    927241         M        20.60         29.33          140.10     1265.0   \n",
       "568     92751         B         7.76         24.54           47.92      181.0   \n",
       "\n",
       "     smoothness_mean  compactness_mean  concavity_mean  concave points_mean  \\\n",
       "0            0.11840           0.27760         0.30010              0.14710   \n",
       "1            0.08474           0.07864         0.08690              0.07017   \n",
       "2            0.10960           0.15990         0.19740              0.12790   \n",
       "3            0.14250           0.28390         0.24140              0.10520   \n",
       "4            0.10030           0.13280         0.19800              0.10430   \n",
       "..               ...               ...             ...                  ...   \n",
       "564          0.11100           0.11590         0.24390              0.13890   \n",
       "565          0.09780           0.10340         0.14400              0.09791   \n",
       "566          0.08455           0.10230         0.09251              0.05302   \n",
       "567          0.11780           0.27700         0.35140              0.15200   \n",
       "568          0.05263           0.04362         0.00000              0.00000   \n",
       "\n",
       "     ...  texture_worst  perimeter_worst  area_worst  smoothness_worst  \\\n",
       "0    ...          17.33           184.60      2019.0           0.16220   \n",
       "1    ...          23.41           158.80      1956.0           0.12380   \n",
       "2    ...          25.53           152.50      1709.0           0.14440   \n",
       "3    ...          26.50            98.87       567.7           0.20980   \n",
       "4    ...          16.67           152.20      1575.0           0.13740   \n",
       "..   ...            ...              ...         ...               ...   \n",
       "564  ...          26.40           166.10      2027.0           0.14100   \n",
       "565  ...          38.25           155.00      1731.0           0.11660   \n",
       "566  ...          34.12           126.70      1124.0           0.11390   \n",
       "567  ...          39.42           184.60      1821.0           0.16500   \n",
       "568  ...          30.37            59.16       268.6           0.08996   \n",
       "\n",
       "     compactness_worst  concavity_worst  concave points_worst  symmetry_worst  \\\n",
       "0              0.66560           0.7119                0.2654          0.4601   \n",
       "1              0.18660           0.2416                0.1860          0.2750   \n",
       "2              0.42450           0.4504                0.2430          0.3613   \n",
       "3              0.86630           0.6869                0.2575          0.6638   \n",
       "4              0.20500           0.4000                0.1625          0.2364   \n",
       "..                 ...              ...                   ...             ...   \n",
       "564            0.21130           0.4107                0.2216          0.2060   \n",
       "565            0.19220           0.3215                0.1628          0.2572   \n",
       "566            0.30940           0.3403                0.1418          0.2218   \n",
       "567            0.86810           0.9387                0.2650          0.4087   \n",
       "568            0.06444           0.0000                0.0000          0.2871   \n",
       "\n",
       "     fractal_dimension_worst  Unnamed: 32  \n",
       "0                    0.11890          NaN  \n",
       "1                    0.08902          NaN  \n",
       "2                    0.08758          NaN  \n",
       "3                    0.17300          NaN  \n",
       "4                    0.07678          NaN  \n",
       "..                       ...          ...  \n",
       "564                  0.07115          NaN  \n",
       "565                  0.06637          NaN  \n",
       "566                  0.07820          NaN  \n",
       "567                  0.12400          NaN  \n",
       "568                  0.07039          NaN  \n",
       "\n",
       "[569 rows x 33 columns]>"
      ]
     },
     "execution_count": 106,
     "metadata": {},
     "output_type": "execute_result"
    }
   ],
   "source": [
    "df = pd.read_csv(\"data.csv\")\n",
    "df.head"
   ]
  },
  {
   "cell_type": "code",
   "execution_count": 107,
   "metadata": {},
   "outputs": [
    {
     "data": {
      "text/html": [
       "<div>\n",
       "<style scoped>\n",
       "    .dataframe tbody tr th:only-of-type {\n",
       "        vertical-align: middle;\n",
       "    }\n",
       "\n",
       "    .dataframe tbody tr th {\n",
       "        vertical-align: top;\n",
       "    }\n",
       "\n",
       "    .dataframe thead th {\n",
       "        text-align: right;\n",
       "    }\n",
       "</style>\n",
       "<table border=\"1\" class=\"dataframe\">\n",
       "  <thead>\n",
       "    <tr style=\"text-align: right;\">\n",
       "      <th></th>\n",
       "      <th>id</th>\n",
       "      <th>diagnosis</th>\n",
       "      <th>radius_mean</th>\n",
       "      <th>texture_mean</th>\n",
       "      <th>perimeter_mean</th>\n",
       "      <th>area_mean</th>\n",
       "      <th>smoothness_mean</th>\n",
       "      <th>compactness_mean</th>\n",
       "      <th>concavity_mean</th>\n",
       "      <th>concave points_mean</th>\n",
       "      <th>...</th>\n",
       "      <th>texture_worst</th>\n",
       "      <th>perimeter_worst</th>\n",
       "      <th>area_worst</th>\n",
       "      <th>smoothness_worst</th>\n",
       "      <th>compactness_worst</th>\n",
       "      <th>concavity_worst</th>\n",
       "      <th>concave points_worst</th>\n",
       "      <th>symmetry_worst</th>\n",
       "      <th>fractal_dimension_worst</th>\n",
       "      <th>Unnamed: 32</th>\n",
       "    </tr>\n",
       "  </thead>\n",
       "  <tbody>\n",
       "    <tr>\n",
       "      <th>0</th>\n",
       "      <td>842302</td>\n",
       "      <td>M</td>\n",
       "      <td>17.99</td>\n",
       "      <td>10.38</td>\n",
       "      <td>122.80</td>\n",
       "      <td>1001.0</td>\n",
       "      <td>0.11840</td>\n",
       "      <td>0.27760</td>\n",
       "      <td>0.3001</td>\n",
       "      <td>0.14710</td>\n",
       "      <td>...</td>\n",
       "      <td>17.33</td>\n",
       "      <td>184.60</td>\n",
       "      <td>2019.0</td>\n",
       "      <td>0.1622</td>\n",
       "      <td>0.6656</td>\n",
       "      <td>0.7119</td>\n",
       "      <td>0.2654</td>\n",
       "      <td>0.4601</td>\n",
       "      <td>0.11890</td>\n",
       "      <td>0.0</td>\n",
       "    </tr>\n",
       "    <tr>\n",
       "      <th>1</th>\n",
       "      <td>842517</td>\n",
       "      <td>M</td>\n",
       "      <td>20.57</td>\n",
       "      <td>17.77</td>\n",
       "      <td>132.90</td>\n",
       "      <td>1326.0</td>\n",
       "      <td>0.08474</td>\n",
       "      <td>0.07864</td>\n",
       "      <td>0.0869</td>\n",
       "      <td>0.07017</td>\n",
       "      <td>...</td>\n",
       "      <td>23.41</td>\n",
       "      <td>158.80</td>\n",
       "      <td>1956.0</td>\n",
       "      <td>0.1238</td>\n",
       "      <td>0.1866</td>\n",
       "      <td>0.2416</td>\n",
       "      <td>0.1860</td>\n",
       "      <td>0.2750</td>\n",
       "      <td>0.08902</td>\n",
       "      <td>0.0</td>\n",
       "    </tr>\n",
       "    <tr>\n",
       "      <th>2</th>\n",
       "      <td>84300903</td>\n",
       "      <td>M</td>\n",
       "      <td>19.69</td>\n",
       "      <td>21.25</td>\n",
       "      <td>130.00</td>\n",
       "      <td>1203.0</td>\n",
       "      <td>0.10960</td>\n",
       "      <td>0.15990</td>\n",
       "      <td>0.1974</td>\n",
       "      <td>0.12790</td>\n",
       "      <td>...</td>\n",
       "      <td>25.53</td>\n",
       "      <td>152.50</td>\n",
       "      <td>1709.0</td>\n",
       "      <td>0.1444</td>\n",
       "      <td>0.4245</td>\n",
       "      <td>0.4504</td>\n",
       "      <td>0.2430</td>\n",
       "      <td>0.3613</td>\n",
       "      <td>0.08758</td>\n",
       "      <td>0.0</td>\n",
       "    </tr>\n",
       "    <tr>\n",
       "      <th>3</th>\n",
       "      <td>84348301</td>\n",
       "      <td>M</td>\n",
       "      <td>11.42</td>\n",
       "      <td>20.38</td>\n",
       "      <td>77.58</td>\n",
       "      <td>386.1</td>\n",
       "      <td>0.14250</td>\n",
       "      <td>0.28390</td>\n",
       "      <td>0.2414</td>\n",
       "      <td>0.10520</td>\n",
       "      <td>...</td>\n",
       "      <td>26.50</td>\n",
       "      <td>98.87</td>\n",
       "      <td>567.7</td>\n",
       "      <td>0.2098</td>\n",
       "      <td>0.8663</td>\n",
       "      <td>0.6869</td>\n",
       "      <td>0.2575</td>\n",
       "      <td>0.6638</td>\n",
       "      <td>0.17300</td>\n",
       "      <td>0.0</td>\n",
       "    </tr>\n",
       "    <tr>\n",
       "      <th>4</th>\n",
       "      <td>84358402</td>\n",
       "      <td>M</td>\n",
       "      <td>20.29</td>\n",
       "      <td>14.34</td>\n",
       "      <td>135.10</td>\n",
       "      <td>1297.0</td>\n",
       "      <td>0.10030</td>\n",
       "      <td>0.13280</td>\n",
       "      <td>0.1980</td>\n",
       "      <td>0.10430</td>\n",
       "      <td>...</td>\n",
       "      <td>16.67</td>\n",
       "      <td>152.20</td>\n",
       "      <td>1575.0</td>\n",
       "      <td>0.1374</td>\n",
       "      <td>0.2050</td>\n",
       "      <td>0.4000</td>\n",
       "      <td>0.1625</td>\n",
       "      <td>0.2364</td>\n",
       "      <td>0.07678</td>\n",
       "      <td>0.0</td>\n",
       "    </tr>\n",
       "  </tbody>\n",
       "</table>\n",
       "<p>5 rows × 33 columns</p>\n",
       "</div>"
      ],
      "text/plain": [
       "         id diagnosis  radius_mean  texture_mean  perimeter_mean  area_mean  \\\n",
       "0    842302         M        17.99         10.38          122.80     1001.0   \n",
       "1    842517         M        20.57         17.77          132.90     1326.0   \n",
       "2  84300903         M        19.69         21.25          130.00     1203.0   \n",
       "3  84348301         M        11.42         20.38           77.58      386.1   \n",
       "4  84358402         M        20.29         14.34          135.10     1297.0   \n",
       "\n",
       "   smoothness_mean  compactness_mean  concavity_mean  concave points_mean  \\\n",
       "0          0.11840           0.27760          0.3001              0.14710   \n",
       "1          0.08474           0.07864          0.0869              0.07017   \n",
       "2          0.10960           0.15990          0.1974              0.12790   \n",
       "3          0.14250           0.28390          0.2414              0.10520   \n",
       "4          0.10030           0.13280          0.1980              0.10430   \n",
       "\n",
       "   ...  texture_worst  perimeter_worst  area_worst  smoothness_worst  \\\n",
       "0  ...          17.33           184.60      2019.0            0.1622   \n",
       "1  ...          23.41           158.80      1956.0            0.1238   \n",
       "2  ...          25.53           152.50      1709.0            0.1444   \n",
       "3  ...          26.50            98.87       567.7            0.2098   \n",
       "4  ...          16.67           152.20      1575.0            0.1374   \n",
       "\n",
       "   compactness_worst  concavity_worst  concave points_worst  symmetry_worst  \\\n",
       "0             0.6656           0.7119                0.2654          0.4601   \n",
       "1             0.1866           0.2416                0.1860          0.2750   \n",
       "2             0.4245           0.4504                0.2430          0.3613   \n",
       "3             0.8663           0.6869                0.2575          0.6638   \n",
       "4             0.2050           0.4000                0.1625          0.2364   \n",
       "\n",
       "   fractal_dimension_worst  Unnamed: 32  \n",
       "0                  0.11890          0.0  \n",
       "1                  0.08902          0.0  \n",
       "2                  0.08758          0.0  \n",
       "3                  0.17300          0.0  \n",
       "4                  0.07678          0.0  \n",
       "\n",
       "[5 rows x 33 columns]"
      ]
     },
     "execution_count": 107,
     "metadata": {},
     "output_type": "execute_result"
    }
   ],
   "source": [
    "# transform NaN to 0\n",
    "df = df.fillna(0)\n",
    "df.head()"
   ]
  },
  {
   "cell_type": "code",
   "execution_count": 108,
   "metadata": {},
   "outputs": [],
   "source": [
    "#rename columns\n",
    "df = df.rename(columns={'concave points_mean': 'concave_points_mean', 'concave points_se': 'concave_points_se', 'concave points_worst': 'concave_points_worst', \n",
    "                        'fractal dimension_mean': 'fractal_dimension_mean', 'fractal dimension_se': 'fractal_dimension_se', 'fractal dimension_worst': 'fractal_dimension_worst'})"
   ]
  },
  {
   "cell_type": "code",
   "execution_count": 109,
   "metadata": {},
   "outputs": [
    {
     "data": {
      "text/html": [
       "<div>\n",
       "<style scoped>\n",
       "    .dataframe tbody tr th:only-of-type {\n",
       "        vertical-align: middle;\n",
       "    }\n",
       "\n",
       "    .dataframe tbody tr th {\n",
       "        vertical-align: top;\n",
       "    }\n",
       "\n",
       "    .dataframe thead th {\n",
       "        text-align: right;\n",
       "    }\n",
       "</style>\n",
       "<table border=\"1\" class=\"dataframe\">\n",
       "  <thead>\n",
       "    <tr style=\"text-align: right;\">\n",
       "      <th></th>\n",
       "      <th>id</th>\n",
       "      <th>diagnosis</th>\n",
       "      <th>radius_mean</th>\n",
       "      <th>texture_mean</th>\n",
       "      <th>perimeter_mean</th>\n",
       "      <th>area_mean</th>\n",
       "      <th>smoothness_mean</th>\n",
       "      <th>compactness_mean</th>\n",
       "      <th>concavity_mean</th>\n",
       "      <th>concave_points_mean</th>\n",
       "      <th>...</th>\n",
       "      <th>texture_worst</th>\n",
       "      <th>perimeter_worst</th>\n",
       "      <th>area_worst</th>\n",
       "      <th>smoothness_worst</th>\n",
       "      <th>compactness_worst</th>\n",
       "      <th>concavity_worst</th>\n",
       "      <th>concave_points_worst</th>\n",
       "      <th>symmetry_worst</th>\n",
       "      <th>fractal_dimension_worst</th>\n",
       "      <th>Unnamed: 32</th>\n",
       "    </tr>\n",
       "  </thead>\n",
       "  <tbody>\n",
       "    <tr>\n",
       "      <th>0</th>\n",
       "      <td>842302</td>\n",
       "      <td>M</td>\n",
       "      <td>17.99</td>\n",
       "      <td>10.38</td>\n",
       "      <td>122.80</td>\n",
       "      <td>1001.0</td>\n",
       "      <td>0.11840</td>\n",
       "      <td>0.27760</td>\n",
       "      <td>0.3001</td>\n",
       "      <td>0.14710</td>\n",
       "      <td>...</td>\n",
       "      <td>17.33</td>\n",
       "      <td>184.60</td>\n",
       "      <td>2019.0</td>\n",
       "      <td>0.1622</td>\n",
       "      <td>0.6656</td>\n",
       "      <td>0.7119</td>\n",
       "      <td>0.2654</td>\n",
       "      <td>0.4601</td>\n",
       "      <td>0.11890</td>\n",
       "      <td>0.0</td>\n",
       "    </tr>\n",
       "    <tr>\n",
       "      <th>1</th>\n",
       "      <td>842517</td>\n",
       "      <td>M</td>\n",
       "      <td>20.57</td>\n",
       "      <td>17.77</td>\n",
       "      <td>132.90</td>\n",
       "      <td>1326.0</td>\n",
       "      <td>0.08474</td>\n",
       "      <td>0.07864</td>\n",
       "      <td>0.0869</td>\n",
       "      <td>0.07017</td>\n",
       "      <td>...</td>\n",
       "      <td>23.41</td>\n",
       "      <td>158.80</td>\n",
       "      <td>1956.0</td>\n",
       "      <td>0.1238</td>\n",
       "      <td>0.1866</td>\n",
       "      <td>0.2416</td>\n",
       "      <td>0.1860</td>\n",
       "      <td>0.2750</td>\n",
       "      <td>0.08902</td>\n",
       "      <td>0.0</td>\n",
       "    </tr>\n",
       "    <tr>\n",
       "      <th>2</th>\n",
       "      <td>84300903</td>\n",
       "      <td>M</td>\n",
       "      <td>19.69</td>\n",
       "      <td>21.25</td>\n",
       "      <td>130.00</td>\n",
       "      <td>1203.0</td>\n",
       "      <td>0.10960</td>\n",
       "      <td>0.15990</td>\n",
       "      <td>0.1974</td>\n",
       "      <td>0.12790</td>\n",
       "      <td>...</td>\n",
       "      <td>25.53</td>\n",
       "      <td>152.50</td>\n",
       "      <td>1709.0</td>\n",
       "      <td>0.1444</td>\n",
       "      <td>0.4245</td>\n",
       "      <td>0.4504</td>\n",
       "      <td>0.2430</td>\n",
       "      <td>0.3613</td>\n",
       "      <td>0.08758</td>\n",
       "      <td>0.0</td>\n",
       "    </tr>\n",
       "    <tr>\n",
       "      <th>3</th>\n",
       "      <td>84348301</td>\n",
       "      <td>M</td>\n",
       "      <td>11.42</td>\n",
       "      <td>20.38</td>\n",
       "      <td>77.58</td>\n",
       "      <td>386.1</td>\n",
       "      <td>0.14250</td>\n",
       "      <td>0.28390</td>\n",
       "      <td>0.2414</td>\n",
       "      <td>0.10520</td>\n",
       "      <td>...</td>\n",
       "      <td>26.50</td>\n",
       "      <td>98.87</td>\n",
       "      <td>567.7</td>\n",
       "      <td>0.2098</td>\n",
       "      <td>0.8663</td>\n",
       "      <td>0.6869</td>\n",
       "      <td>0.2575</td>\n",
       "      <td>0.6638</td>\n",
       "      <td>0.17300</td>\n",
       "      <td>0.0</td>\n",
       "    </tr>\n",
       "    <tr>\n",
       "      <th>4</th>\n",
       "      <td>84358402</td>\n",
       "      <td>M</td>\n",
       "      <td>20.29</td>\n",
       "      <td>14.34</td>\n",
       "      <td>135.10</td>\n",
       "      <td>1297.0</td>\n",
       "      <td>0.10030</td>\n",
       "      <td>0.13280</td>\n",
       "      <td>0.1980</td>\n",
       "      <td>0.10430</td>\n",
       "      <td>...</td>\n",
       "      <td>16.67</td>\n",
       "      <td>152.20</td>\n",
       "      <td>1575.0</td>\n",
       "      <td>0.1374</td>\n",
       "      <td>0.2050</td>\n",
       "      <td>0.4000</td>\n",
       "      <td>0.1625</td>\n",
       "      <td>0.2364</td>\n",
       "      <td>0.07678</td>\n",
       "      <td>0.0</td>\n",
       "    </tr>\n",
       "  </tbody>\n",
       "</table>\n",
       "<p>5 rows × 33 columns</p>\n",
       "</div>"
      ],
      "text/plain": [
       "         id diagnosis  radius_mean  texture_mean  perimeter_mean  area_mean  \\\n",
       "0    842302         M        17.99         10.38          122.80     1001.0   \n",
       "1    842517         M        20.57         17.77          132.90     1326.0   \n",
       "2  84300903         M        19.69         21.25          130.00     1203.0   \n",
       "3  84348301         M        11.42         20.38           77.58      386.1   \n",
       "4  84358402         M        20.29         14.34          135.10     1297.0   \n",
       "\n",
       "   smoothness_mean  compactness_mean  concavity_mean  concave_points_mean  \\\n",
       "0          0.11840           0.27760          0.3001              0.14710   \n",
       "1          0.08474           0.07864          0.0869              0.07017   \n",
       "2          0.10960           0.15990          0.1974              0.12790   \n",
       "3          0.14250           0.28390          0.2414              0.10520   \n",
       "4          0.10030           0.13280          0.1980              0.10430   \n",
       "\n",
       "   ...  texture_worst  perimeter_worst  area_worst  smoothness_worst  \\\n",
       "0  ...          17.33           184.60      2019.0            0.1622   \n",
       "1  ...          23.41           158.80      1956.0            0.1238   \n",
       "2  ...          25.53           152.50      1709.0            0.1444   \n",
       "3  ...          26.50            98.87       567.7            0.2098   \n",
       "4  ...          16.67           152.20      1575.0            0.1374   \n",
       "\n",
       "   compactness_worst  concavity_worst  concave_points_worst  symmetry_worst  \\\n",
       "0             0.6656           0.7119                0.2654          0.4601   \n",
       "1             0.1866           0.2416                0.1860          0.2750   \n",
       "2             0.4245           0.4504                0.2430          0.3613   \n",
       "3             0.8663           0.6869                0.2575          0.6638   \n",
       "4             0.2050           0.4000                0.1625          0.2364   \n",
       "\n",
       "   fractal_dimension_worst  Unnamed: 32  \n",
       "0                  0.11890          0.0  \n",
       "1                  0.08902          0.0  \n",
       "2                  0.08758          0.0  \n",
       "3                  0.17300          0.0  \n",
       "4                  0.07678          0.0  \n",
       "\n",
       "[5 rows x 33 columns]"
      ]
     },
     "execution_count": 109,
     "metadata": {},
     "output_type": "execute_result"
    }
   ],
   "source": [
    "#check renamed columns\n",
    "df.head()"
   ]
  },
  {
   "cell_type": "code",
   "execution_count": 110,
   "metadata": {},
   "outputs": [],
   "source": [
    "#transformação das variáveis dependentes em 0 e 1\n",
    "df = df.replace(['B', 'M'], [0, 1])"
   ]
  },
  {
   "attachments": {},
   "cell_type": "markdown",
   "metadata": {},
   "source": [
    "# Modelo Simples - Padrão"
   ]
  },
  {
   "cell_type": "code",
   "execution_count": 111,
   "metadata": {},
   "outputs": [
    {
     "name": "stdout",
     "output_type": "stream",
     "text": [
      "Optimization terminated successfully.\n",
      "         Current function value: 0.220557\n",
      "         Iterations 8\n"
     ]
    },
    {
     "data": {
      "text/html": [
       "<table class=\"simpletable\">\n",
       "<caption>Logit Regression Results</caption>\n",
       "<tr>\n",
       "  <th>Dep. Variable:</th>       <td>diagnosis</td>    <th>  No. Observations:  </th>   <td>   569</td>  \n",
       "</tr>\n",
       "<tr>\n",
       "  <th>Model:</th>                 <td>Logit</td>      <th>  Df Residuals:      </th>   <td>   566</td>  \n",
       "</tr>\n",
       "<tr>\n",
       "  <th>Method:</th>                 <td>MLE</td>       <th>  Df Model:          </th>   <td>     2</td>  \n",
       "</tr>\n",
       "<tr>\n",
       "  <th>Date:</th>            <td>Mon, 26 Jun 2023</td> <th>  Pseudo R-squ.:     </th>   <td>0.6660</td>  \n",
       "</tr>\n",
       "<tr>\n",
       "  <th>Time:</th>                <td>11:13:23</td>     <th>  Log-Likelihood:    </th>  <td> -125.50</td> \n",
       "</tr>\n",
       "<tr>\n",
       "  <th>converged:</th>             <td>True</td>       <th>  LL-Null:           </th>  <td> -375.72</td> \n",
       "</tr>\n",
       "<tr>\n",
       "  <th>Covariance Type:</th>     <td>nonrobust</td>    <th>  LLR p-value:       </th> <td>2.135e-109</td>\n",
       "</tr>\n",
       "</table>\n",
       "<table class=\"simpletable\">\n",
       "<tr>\n",
       "         <td></td>           <th>coef</th>     <th>std err</th>      <th>z</th>      <th>P>|z|</th>  <th>[0.025</th>    <th>0.975]</th>  \n",
       "</tr>\n",
       "<tr>\n",
       "  <th>Intercept</th>      <td>  -13.3013</td> <td>    1.414</td> <td>   -9.408</td> <td> 0.000</td> <td>  -16.072</td> <td>  -10.530</td>\n",
       "</tr>\n",
       "<tr>\n",
       "  <th>radius_mean</th>    <td>   -5.7415</td> <td>    0.899</td> <td>   -6.383</td> <td> 0.000</td> <td>   -7.504</td> <td>   -3.979</td>\n",
       "</tr>\n",
       "<tr>\n",
       "  <th>perimeter_mean</th> <td>    1.0208</td> <td>    0.140</td> <td>    7.303</td> <td> 0.000</td> <td>    0.747</td> <td>    1.295</td>\n",
       "</tr>\n",
       "</table>"
      ],
      "text/plain": [
       "<class 'statsmodels.iolib.summary.Summary'>\n",
       "\"\"\"\n",
       "                           Logit Regression Results                           \n",
       "==============================================================================\n",
       "Dep. Variable:              diagnosis   No. Observations:                  569\n",
       "Model:                          Logit   Df Residuals:                      566\n",
       "Method:                           MLE   Df Model:                            2\n",
       "Date:                Mon, 26 Jun 2023   Pseudo R-squ.:                  0.6660\n",
       "Time:                        11:13:23   Log-Likelihood:                -125.50\n",
       "converged:                       True   LL-Null:                       -375.72\n",
       "Covariance Type:            nonrobust   LLR p-value:                2.135e-109\n",
       "==================================================================================\n",
       "                     coef    std err          z      P>|z|      [0.025      0.975]\n",
       "----------------------------------------------------------------------------------\n",
       "Intercept        -13.3013      1.414     -9.408      0.000     -16.072     -10.530\n",
       "radius_mean       -5.7415      0.899     -6.383      0.000      -7.504      -3.979\n",
       "perimeter_mean     1.0208      0.140      7.303      0.000       0.747       1.295\n",
       "==================================================================================\n",
       "\"\"\""
      ]
     },
     "execution_count": 111,
     "metadata": {},
     "output_type": "execute_result"
    }
   ],
   "source": [
    "#modelo de regressão logística com statsmodels\n",
    "model_1 = sm.Logit.from_formula(\"diagnosis ~ radius_mean + perimeter_mean\", data = df).fit()\n",
    "model_1.summary()"
   ]
  },
  {
   "cell_type": "code",
   "execution_count": 112,
   "metadata": {},
   "outputs": [
    {
     "name": "stdout",
     "output_type": "stream",
     "text": [
      "O aic do modelo foi 256.993783383435\n"
     ]
    }
   ],
   "source": [
    "print(f\"O aic do modelo foi {model_1.aic}\")"
   ]
  },
  {
   "cell_type": "code",
   "execution_count": 146,
   "metadata": {},
   "outputs": [
    {
     "data": {
      "image/png": "[encoded data removed]",
      "text/plain": [
       "<Figure size 720x720 with 1 Axes>"
      ]
     },
     "metadata": {
      "needs_background": "light"
     },
     "output_type": "display_data"
    }
   ],
   "source": [
    "# definindo predições como 0 e 1 para plotar a curva ROC\n",
    "predicoes_1 = model_1.predict()\n",
    "predicoes_1 = np.where(predicoes_1 > 0.3, 1, 0)\n",
    "#curva ROC\n",
    "fpr, tpr, thresholds = roc_curve(df['diagnosis'], predicoes_1)\n",
    "roc_auc = auc(fpr, tpr) \n",
    "\n",
    "#plotando a curva ROC\n",
    "plt.figure(figsize=(10,10))\n",
    "plt.plot(fpr, tpr, color='darkorange', lw=2, label='ROC curve (area = %0.2f)' % roc_auc)\n",
    "plt.plot([0,1],[0,1], color='navy', lw=2, linestyle='--')\n",
    "plt.xlim([-0.1,1.0])\n",
    "plt.ylim([-0.1,1.05])\n",
    "plt.xlabel('False Positive Rate', fontsize=20)\n",
    "plt.ylabel('True Positive Rate', fontsize=20)\n",
    "plt.title('ROC Curve', fontsize=20)\n",
    "plt.legend(loc=\"lower right\", fontsize=20)\n",
    "plt.show()"
   ]
  },
  {
   "cell_type": "code",
   "execution_count": 192,
   "metadata": {},
   "outputs": [
    {
     "data": {
      "image/png": "[encoded data removed]",
      "text/plain": [
       "<Figure size 576x576 with 2 Axes>"
      ]
     },
     "metadata": {
      "needs_background": "light"
     },
     "output_type": "display_data"
    }
   ],
   "source": [
    "# plot da matriz de confusão\n",
    "cm_1 = confusion_matrix(df['diagnosis'], predicoes_1)\n",
    "\n",
    "#matplotlib\n",
    "plt.figure(figsize=(8, 8))\n",
    "plt.imshow(cm_1, cmap=plt.cm.Blues)\n",
    "\n",
    "plt.title('Confusion Matrix')\n",
    "plt.xlabel('Predicted Labels')\n",
    "plt.ylabel('True Labels')\n",
    "plt.colorbar()\n",
    "\n",
    "plt.xticks(np.arange(2))\n",
    "plt.yticks(np.arange(2))\n",
    "\n",
    "# Add text inside each square of the confusion matrix\n",
    "for i in range(2):\n",
    "    for j in range(2):\n",
    "        plt.text(j, i, str(cm_1[i, j]), ha='center', va='center', color='black')\n",
    "\n",
    "plt.show()"
   ]
  },
  {
   "cell_type": "code",
   "execution_count": 206,
   "metadata": {},
   "outputs": [
    {
     "name": "stdout",
     "output_type": "stream",
     "text": [
      "A acurácia do modelo foi 0.8998242530755711\n",
      "A sensibilidade do modelo foi 0.9198113207547169\n",
      "A especificidade do modelo foi 0.8879551820728291\n",
      "A precisão do modelo foi 0.8297872340425532\n",
      "O f1-score do modelo foi 0.87248322147651\n"
     ]
    }
   ],
   "source": [
    "#acurácia, sensibilidade, especificidade, precisão e f1-score\n",
    "acuracia_1 = (cm_1[0,0] + cm_1[1,1]) / sum(sum(cm_1))\n",
    "sensibilidade_1 = cm_1[1,1] / (cm_1[1,0] + cm_1[1,1])\n",
    "especificidade_1 = cm_1[0,0] / (cm_1[0,0] + cm_1[0,1])\n",
    "precisao_1 = cm_1[1,1] / (cm_1[0,1] + cm_1[1,1])\n",
    "f1_score_1 = 2 * (precisao_1 * sensibilidade_1) / (precisao_1 + sensibilidade_1)\n",
    "print(f\"A acurácia do modelo foi {acuracia_1}\")\n",
    "print(f\"A sensibilidade do modelo foi {sensibilidade_1}\")\n",
    "print(f\"A especificidade do modelo foi {especificidade_1}\")\n",
    "print(f\"A precisão do modelo foi {precisao_1}\")\n",
    "print(f\"O f1-score do modelo foi {f1_score_1}\")"
   ]
  },
  {
   "attachments": {},
   "cell_type": "markdown",
   "metadata": {},
   "source": [
    "# Incrementando o modelo"
   ]
  },
  {
   "cell_type": "code",
   "execution_count": 116,
   "metadata": {},
   "outputs": [
    {
     "name": "stdout",
     "output_type": "stream",
     "text": [
      "Optimization terminated successfully.\n",
      "         Current function value: 0.086349\n",
      "         Iterations 15\n"
     ]
    },
    {
     "data": {
      "text/html": [
       "<table class=\"simpletable\">\n",
       "<caption>Logit Regression Results</caption>\n",
       "<tr>\n",
       "  <th>Dep. Variable:</th>       <td>diagnosis</td>    <th>  No. Observations:  </th>   <td>   569</td>  \n",
       "</tr>\n",
       "<tr>\n",
       "  <th>Model:</th>                 <td>Logit</td>      <th>  Df Residuals:      </th>   <td>   553</td>  \n",
       "</tr>\n",
       "<tr>\n",
       "  <th>Method:</th>                 <td>MLE</td>       <th>  Df Model:          </th>   <td>    15</td>  \n",
       "</tr>\n",
       "<tr>\n",
       "  <th>Date:</th>            <td>Mon, 26 Jun 2023</td> <th>  Pseudo R-squ.:     </th>   <td>0.8692</td>  \n",
       "</tr>\n",
       "<tr>\n",
       "  <th>Time:</th>                <td>11:13:36</td>     <th>  Log-Likelihood:    </th>  <td> -49.133</td> \n",
       "</tr>\n",
       "<tr>\n",
       "  <th>converged:</th>             <td>True</td>       <th>  LL-Null:           </th>  <td> -375.72</td> \n",
       "</tr>\n",
       "<tr>\n",
       "  <th>Covariance Type:</th>     <td>nonrobust</td>    <th>  LLR p-value:       </th> <td>1.748e-129</td>\n",
       "</tr>\n",
       "</table>\n",
       "<table class=\"simpletable\">\n",
       "<tr>\n",
       "                 <td></td>                   <th>coef</th>     <th>std err</th>      <th>z</th>      <th>P>|z|</th>  <th>[0.025</th>    <th>0.975]</th>  \n",
       "</tr>\n",
       "<tr>\n",
       "  <th>Intercept</th>                      <td>  -15.4095</td> <td>   13.661</td> <td>   -1.128</td> <td> 0.259</td> <td>  -42.185</td> <td>   11.366</td>\n",
       "</tr>\n",
       "<tr>\n",
       "  <th>radius_mean</th>                    <td>   17.1428</td> <td>    8.355</td> <td>    2.052</td> <td> 0.040</td> <td>    0.768</td> <td>   33.517</td>\n",
       "</tr>\n",
       "<tr>\n",
       "  <th>radius_se</th>                      <td>   -9.6168</td> <td>   49.265</td> <td>   -0.195</td> <td> 0.845</td> <td> -106.174</td> <td>   86.940</td>\n",
       "</tr>\n",
       "<tr>\n",
       "  <th>radius_worst</th>                   <td>    9.8921</td> <td>    5.698</td> <td>    1.736</td> <td> 0.083</td> <td>   -1.275</td> <td>   21.059</td>\n",
       "</tr>\n",
       "<tr>\n",
       "  <th>radius_mean:radius_worst</th>       <td>   -0.6348</td> <td>    0.428</td> <td>   -1.484</td> <td> 0.138</td> <td>   -1.473</td> <td>    0.204</td>\n",
       "</tr>\n",
       "<tr>\n",
       "  <th>radius_se:radius_worst</th>         <td>    1.2817</td> <td>    2.936</td> <td>    0.437</td> <td> 0.662</td> <td>   -4.473</td> <td>    7.036</td>\n",
       "</tr>\n",
       "<tr>\n",
       "  <th>perimeter_mean</th>                 <td>   -2.9881</td> <td>    1.292</td> <td>   -2.313</td> <td> 0.021</td> <td>   -5.520</td> <td>   -0.456</td>\n",
       "</tr>\n",
       "<tr>\n",
       "  <th>perimeter_se</th>                   <td>    4.4213</td> <td>    5.593</td> <td>    0.791</td> <td> 0.429</td> <td>   -6.540</td> <td>   15.383</td>\n",
       "</tr>\n",
       "<tr>\n",
       "  <th>perimeter_worst</th>                <td>   -1.3047</td> <td>    0.878</td> <td>   -1.487</td> <td> 0.137</td> <td>   -3.025</td> <td>    0.415</td>\n",
       "</tr>\n",
       "<tr>\n",
       "  <th>perimeter_mean:perimeter_worst</th> <td>    0.0165</td> <td>    0.010</td> <td>    1.622</td> <td> 0.105</td> <td>   -0.003</td> <td>    0.036</td>\n",
       "</tr>\n",
       "<tr>\n",
       "  <th>perimeter_se:perimeter_worst</th>   <td>   -0.0465</td> <td>    0.048</td> <td>   -0.972</td> <td> 0.331</td> <td>   -0.140</td> <td>    0.047</td>\n",
       "</tr>\n",
       "<tr>\n",
       "  <th>concavity_mean</th>                 <td>   29.6634</td> <td>   40.244</td> <td>    0.737</td> <td> 0.461</td> <td>  -49.213</td> <td>  108.540</td>\n",
       "</tr>\n",
       "<tr>\n",
       "  <th>concavity_se</th>                   <td>   21.1261</td> <td>   55.837</td> <td>    0.378</td> <td> 0.705</td> <td>  -88.313</td> <td>  130.565</td>\n",
       "</tr>\n",
       "<tr>\n",
       "  <th>concavity_worst</th>                <td>   14.0300</td> <td>    5.375</td> <td>    2.610</td> <td> 0.009</td> <td>    3.496</td> <td>   24.564</td>\n",
       "</tr>\n",
       "<tr>\n",
       "  <th>concavity_mean:concavity_worst</th> <td>   85.7082</td> <td>   86.323</td> <td>    0.993</td> <td> 0.321</td> <td>  -83.481</td> <td>  254.897</td>\n",
       "</tr>\n",
       "<tr>\n",
       "  <th>concavity_se:concavity_worst</th>   <td> -241.2285</td> <td>  150.480</td> <td>   -1.603</td> <td> 0.109</td> <td> -536.164</td> <td>   53.707</td>\n",
       "</tr>\n",
       "</table><br/><br/>Possibly complete quasi-separation: A fraction 0.28 of observations can be<br/>perfectly predicted. This might indicate that there is complete<br/>quasi-separation. In this case some parameters will not be identified."
      ],
      "text/plain": [
       "<class 'statsmodels.iolib.summary.Summary'>\n",
       "\"\"\"\n",
       "                           Logit Regression Results                           \n",
       "==============================================================================\n",
       "Dep. Variable:              diagnosis   No. Observations:                  569\n",
       "Model:                          Logit   Df Residuals:                      553\n",
       "Method:                           MLE   Df Model:                           15\n",
       "Date:                Mon, 26 Jun 2023   Pseudo R-squ.:                  0.8692\n",
       "Time:                        11:13:36   Log-Likelihood:                -49.133\n",
       "converged:                       True   LL-Null:                       -375.72\n",
       "Covariance Type:            nonrobust   LLR p-value:                1.748e-129\n",
       "==================================================================================================\n",
       "                                     coef    std err          z      P>|z|      [0.025      0.975]\n",
       "--------------------------------------------------------------------------------------------------\n",
       "Intercept                        -15.4095     13.661     -1.128      0.259     -42.185      11.366\n",
       "radius_mean                       17.1428      8.355      2.052      0.040       0.768      33.517\n",
       "radius_se                         -9.6168     49.265     -0.195      0.845    -106.174      86.940\n",
       "radius_worst                       9.8921      5.698      1.736      0.083      -1.275      21.059\n",
       "radius_mean:radius_worst          -0.6348      0.428     -1.484      0.138      -1.473       0.204\n",
       "radius_se:radius_worst             1.2817      2.936      0.437      0.662      -4.473       7.036\n",
       "perimeter_mean                    -2.9881      1.292     -2.313      0.021      -5.520      -0.456\n",
       "perimeter_se                       4.4213      5.593      0.791      0.429      -6.540      15.383\n",
       "perimeter_worst                   -1.3047      0.878     -1.487      0.137      -3.025       0.415\n",
       "perimeter_mean:perimeter_worst     0.0165      0.010      1.622      0.105      -0.003       0.036\n",
       "perimeter_se:perimeter_worst      -0.0465      0.048     -0.972      0.331      -0.140       0.047\n",
       "concavity_mean                    29.6634     40.244      0.737      0.461     -49.213     108.540\n",
       "concavity_se                      21.1261     55.837      0.378      0.705     -88.313     130.565\n",
       "concavity_worst                   14.0300      5.375      2.610      0.009       3.496      24.564\n",
       "concavity_mean:concavity_worst    85.7082     86.323      0.993      0.321     -83.481     254.897\n",
       "concavity_se:concavity_worst    -241.2285    150.480     -1.603      0.109    -536.164      53.707\n",
       "==================================================================================================\n",
       "\n",
       "Possibly complete quasi-separation: A fraction 0.28 of observations can be\n",
       "perfectly predicted. This might indicate that there is complete\n",
       "quasi-separation. In this case some parameters will not be identified.\n",
       "\"\"\""
      ]
     },
     "execution_count": 116,
     "metadata": {},
     "output_type": "execute_result"
    }
   ],
   "source": [
    "#modelo de regressão logística com statsmodels\n",
    "model_2 = sm.Logit.from_formula(\"diagnosis ~ ((radius_mean + radius_se) * radius_worst) + ((perimeter_mean + perimeter_se) * perimeter_worst) + ((concavity_mean + concavity_se) * concavity_worst) \", data = df).fit()\n",
    "model_2.summary()"
   ]
  },
  {
   "cell_type": "code",
   "execution_count": 117,
   "metadata": {},
   "outputs": [
    {
     "name": "stdout",
     "output_type": "stream",
     "text": [
      "O aic do modelo foi 130.26518614616987\n"
     ]
    }
   ],
   "source": [
    "print(f\"O aic do modelo foi {model_2.aic}\")"
   ]
  },
  {
   "cell_type": "code",
   "execution_count": 154,
   "metadata": {},
   "outputs": [
    {
     "data": {
      "image/png": "[encoded data removed]",
      "text/plain": [
       "<Figure size 720x720 with 1 Axes>"
      ]
     },
     "metadata": {
      "needs_background": "light"
     },
     "output_type": "display_data"
    }
   ],
   "source": [
    "# definindo predições como 0 e 1 para plotar a curva ROC\n",
    "predicoes_2 = model_2.predict()\n",
    "predicoes_2 = np.where(predicoes_2 > 0.3, 1, 0)\n",
    "#curva ROC\n",
    "fpr, tpr, thresholds = roc_curve(df['diagnosis'], predicoes_2)\n",
    "roc_auc = auc(fpr, tpr) \n",
    "\n",
    "#plotando a curva ROC\n",
    "plt.figure(figsize=(10,10))\n",
    "plt.plot(fpr, tpr, color='darkorange', lw=2, label='ROC curve (area = %0.2f)' % roc_auc)\n",
    "plt.plot([0,1],[0,1], color='navy', lw=2, linestyle='--')\n",
    "plt.xlim([-0.1,1.0])\n",
    "plt.ylim([-0.1,1.05])\n",
    "plt.xlabel('False Positive Rate', fontsize=20)\n",
    "plt.ylabel('True Positive Rate', fontsize=20)\n",
    "plt.title('ROC Curve', fontsize=20)\n",
    "plt.legend(loc=\"lower right\", fontsize=20)\n",
    "plt.show()"
   ]
  },
  {
   "cell_type": "code",
   "execution_count": 193,
   "metadata": {},
   "outputs": [
    {
     "data": {
      "image/png": "[encoded data removed]",
      "text/plain": [
       "<Figure size 576x576 with 2 Axes>"
      ]
     },
     "metadata": {
      "needs_background": "light"
     },
     "output_type": "display_data"
    }
   ],
   "source": [
    "# plot da matriz de confusão\n",
    "cm_2 = confusion_matrix(df['diagnosis'], predicoes_2)\n",
    "\n",
    "#matplotlib\n",
    "plt.figure(figsize=(8, 8))\n",
    "plt.imshow(cm_2, cmap=plt.cm.Blues)\n",
    "\n",
    "plt.title('Confusion Matrix')\n",
    "plt.xlabel('Predicted Labels')\n",
    "plt.ylabel('True Labels')\n",
    "plt.colorbar()\n",
    "\n",
    "plt.xticks(np.arange(2))\n",
    "plt.yticks(np.arange(2))\n",
    "\n",
    "# Add text inside each square of the confusion matrix\n",
    "for i in range(2):\n",
    "    for j in range(2):\n",
    "        plt.text(j, i, str(cm_2[i, j]), ha='center', va='center', color='black')\n",
    "\n",
    "plt.show()"
   ]
  },
  {
   "cell_type": "code",
   "execution_count": 207,
   "metadata": {},
   "outputs": [
    {
     "name": "stdout",
     "output_type": "stream",
     "text": [
      "A acurácia do modelo foi 0.9543057996485061\n",
      "A sensibilidade do modelo foi 0.9716981132075472\n",
      "A especificidade do modelo foi 0.9439775910364145\n",
      "A precisão do modelo foi 0.911504424778761\n",
      "O f1-score do modelo foi 0.9406392694063926\n"
     ]
    }
   ],
   "source": [
    "#acurácia, sensibilidade, especificidade, precisão e f1-score\n",
    "acuracia_2 = (cm_2[0,0] + cm_2[1,1]) / sum(sum(cm_2))\n",
    "sensibilidade_2 = cm_2[1,1] / (cm_2[1,0] + cm_2[1,1])\n",
    "especificidade_2 = cm_2[0,0] / (cm_2[0,0] + cm_2[0,1])\n",
    "precisao_2 = cm_2[1,1] / (cm_2[0,1] + cm_2[1,1])\n",
    "f1_score_2 = 2 * (precisao_2 * sensibilidade_2) / (precisao_2 + sensibilidade_2)\n",
    "print(f\"A acurácia do modelo foi {acuracia_2}\")\n",
    "print(f\"A sensibilidade do modelo foi {sensibilidade_2}\")\n",
    "print(f\"A especificidade do modelo foi {especificidade_2}\")\n",
    "print(f\"A precisão do modelo foi {precisao_2}\")\n",
    "print(f\"O f1-score do modelo foi {f1_score_2}\")"
   ]
  },
  {
   "attachments": {},
   "cell_type": "markdown",
   "metadata": {},
   "source": [
    "# Modelo apenas com as Médias"
   ]
  },
  {
   "cell_type": "code",
   "execution_count": 121,
   "metadata": {},
   "outputs": [
    {
     "name": "stdout",
     "output_type": "stream",
     "text": [
      "Optimization terminated successfully.\n",
      "         Current function value: 0.128410\n",
      "         Iterations 11\n"
     ]
    },
    {
     "data": {
      "text/html": [
       "<table class=\"simpletable\">\n",
       "<caption>Logit Regression Results</caption>\n",
       "<tr>\n",
       "  <th>Dep. Variable:</th>       <td>diagnosis</td>    <th>  No. Observations:  </th>   <td>   569</td>  \n",
       "</tr>\n",
       "<tr>\n",
       "  <th>Model:</th>                 <td>Logit</td>      <th>  Df Residuals:      </th>   <td>   558</td>  \n",
       "</tr>\n",
       "<tr>\n",
       "  <th>Method:</th>                 <td>MLE</td>       <th>  Df Model:          </th>   <td>    10</td>  \n",
       "</tr>\n",
       "<tr>\n",
       "  <th>Date:</th>            <td>Mon, 26 Jun 2023</td> <th>  Pseudo R-squ.:     </th>   <td>0.8055</td>  \n",
       "</tr>\n",
       "<tr>\n",
       "  <th>Time:</th>                <td>11:13:53</td>     <th>  Log-Likelihood:    </th>  <td> -73.065</td> \n",
       "</tr>\n",
       "<tr>\n",
       "  <th>converged:</th>             <td>True</td>       <th>  LL-Null:           </th>  <td> -375.72</td> \n",
       "</tr>\n",
       "<tr>\n",
       "  <th>Covariance Type:</th>     <td>nonrobust</td>    <th>  LLR p-value:       </th> <td>1.282e-123</td>\n",
       "</tr>\n",
       "</table>\n",
       "<table class=\"simpletable\">\n",
       "<tr>\n",
       "             <td></td>               <th>coef</th>     <th>std err</th>      <th>z</th>      <th>P>|z|</th>  <th>[0.025</th>    <th>0.975]</th>  \n",
       "</tr>\n",
       "<tr>\n",
       "  <th>Intercept</th>              <td>   -7.3595</td> <td>   12.853</td> <td>   -0.573</td> <td> 0.567</td> <td>  -32.550</td> <td>   17.831</td>\n",
       "</tr>\n",
       "<tr>\n",
       "  <th>radius_mean</th>            <td>   -2.0493</td> <td>    3.716</td> <td>   -0.551</td> <td> 0.581</td> <td>   -9.332</td> <td>    5.234</td>\n",
       "</tr>\n",
       "<tr>\n",
       "  <th>texture_mean</th>           <td>    0.3847</td> <td>    0.065</td> <td>    5.961</td> <td> 0.000</td> <td>    0.258</td> <td>    0.511</td>\n",
       "</tr>\n",
       "<tr>\n",
       "  <th>perimeter_mean</th>         <td>   -0.0715</td> <td>    0.505</td> <td>   -0.142</td> <td> 0.887</td> <td>   -1.062</td> <td>    0.919</td>\n",
       "</tr>\n",
       "<tr>\n",
       "  <th>area_mean</th>              <td>    0.0398</td> <td>    0.017</td> <td>    2.377</td> <td> 0.017</td> <td>    0.007</td> <td>    0.073</td>\n",
       "</tr>\n",
       "<tr>\n",
       "  <th>smoothness_mean</th>        <td>   76.4323</td> <td>   31.955</td> <td>    2.392</td> <td> 0.017</td> <td>   13.802</td> <td>  139.063</td>\n",
       "</tr>\n",
       "<tr>\n",
       "  <th>compactness_mean</th>       <td>   -1.4624</td> <td>   20.342</td> <td>   -0.072</td> <td> 0.943</td> <td>  -41.333</td> <td>   38.408</td>\n",
       "</tr>\n",
       "<tr>\n",
       "  <th>concavity_mean</th>         <td>    8.4687</td> <td>    8.120</td> <td>    1.043</td> <td> 0.297</td> <td>   -7.446</td> <td>   24.384</td>\n",
       "</tr>\n",
       "<tr>\n",
       "  <th>concave_points_mean</th>    <td>   66.8218</td> <td>   28.529</td> <td>    2.342</td> <td> 0.019</td> <td>   10.906</td> <td>  122.738</td>\n",
       "</tr>\n",
       "<tr>\n",
       "  <th>symmetry_mean</th>          <td>   16.2782</td> <td>   10.631</td> <td>    1.531</td> <td> 0.126</td> <td>   -4.557</td> <td>   37.114</td>\n",
       "</tr>\n",
       "<tr>\n",
       "  <th>fractal_dimension_mean</th> <td>  -68.3370</td> <td>   85.557</td> <td>   -0.799</td> <td> 0.424</td> <td> -236.025</td> <td>   99.351</td>\n",
       "</tr>\n",
       "</table><br/><br/>Possibly complete quasi-separation: A fraction 0.18 of observations can be<br/>perfectly predicted. This might indicate that there is complete<br/>quasi-separation. In this case some parameters will not be identified."
      ],
      "text/plain": [
       "<class 'statsmodels.iolib.summary.Summary'>\n",
       "\"\"\"\n",
       "                           Logit Regression Results                           \n",
       "==============================================================================\n",
       "Dep. Variable:              diagnosis   No. Observations:                  569\n",
       "Model:                          Logit   Df Residuals:                      558\n",
       "Method:                           MLE   Df Model:                           10\n",
       "Date:                Mon, 26 Jun 2023   Pseudo R-squ.:                  0.8055\n",
       "Time:                        11:13:53   Log-Likelihood:                -73.065\n",
       "converged:                       True   LL-Null:                       -375.72\n",
       "Covariance Type:            nonrobust   LLR p-value:                1.282e-123\n",
       "==========================================================================================\n",
       "                             coef    std err          z      P>|z|      [0.025      0.975]\n",
       "------------------------------------------------------------------------------------------\n",
       "Intercept                 -7.3595     12.853     -0.573      0.567     -32.550      17.831\n",
       "radius_mean               -2.0493      3.716     -0.551      0.581      -9.332       5.234\n",
       "texture_mean               0.3847      0.065      5.961      0.000       0.258       0.511\n",
       "perimeter_mean            -0.0715      0.505     -0.142      0.887      -1.062       0.919\n",
       "area_mean                  0.0398      0.017      2.377      0.017       0.007       0.073\n",
       "smoothness_mean           76.4323     31.955      2.392      0.017      13.802     139.063\n",
       "compactness_mean          -1.4624     20.342     -0.072      0.943     -41.333      38.408\n",
       "concavity_mean             8.4687      8.120      1.043      0.297      -7.446      24.384\n",
       "concave_points_mean       66.8218     28.529      2.342      0.019      10.906     122.738\n",
       "symmetry_mean             16.2782     10.631      1.531      0.126      -4.557      37.114\n",
       "fractal_dimension_mean   -68.3370     85.557     -0.799      0.424    -236.025      99.351\n",
       "==========================================================================================\n",
       "\n",
       "Possibly complete quasi-separation: A fraction 0.18 of observations can be\n",
       "perfectly predicted. This might indicate that there is complete\n",
       "quasi-separation. In this case some parameters will not be identified.\n",
       "\"\"\""
      ]
     },
     "execution_count": 121,
     "metadata": {},
     "output_type": "execute_result"
    }
   ],
   "source": [
    "#modelo de regressão logística com statsmodels\n",
    "model_mean = sm.Logit.from_formula(\"diagnosis ~ radius_mean + texture_mean + perimeter_mean + area_mean + smoothness_mean + compactness_mean + concavity_mean + concave_points_mean + symmetry_mean + fractal_dimension_mean\", data = df).fit()\n",
    "model_mean.summary()"
   ]
  },
  {
   "cell_type": "code",
   "execution_count": 122,
   "metadata": {},
   "outputs": [
    {
     "name": "stdout",
     "output_type": "stream",
     "text": [
      "O aic do modelo foi 168.13041843396468\n"
     ]
    }
   ],
   "source": [
    "print(f\"O aic do modelo foi {model_mean.aic}\")"
   ]
  },
  {
   "cell_type": "code",
   "execution_count": 158,
   "metadata": {},
   "outputs": [
    {
     "data": {
      "image/png": "[encoded data removed]",
      "text/plain": [
       "<Figure size 720x720 with 1 Axes>"
      ]
     },
     "metadata": {
      "needs_background": "light"
     },
     "output_type": "display_data"
    }
   ],
   "source": [
    "# definindo predições como 0 e 1 para plotar a curva ROC\n",
    "predicoes_mean = model_mean.predict()\n",
    "predicoes_mean = np.where(predicoes_mean > 0.3, 1, 0)\n",
    "#curva ROC\n",
    "fpr, tpr, thresholds = roc_curve(df['diagnosis'], predicoes_mean)\n",
    "roc_auc = auc(fpr, tpr) \n",
    "\n",
    "#plotando a curva ROC\n",
    "plt.figure(figsize=(10,10))\n",
    "plt.plot(fpr, tpr, color='darkorange', lw=2, label='ROC curve (area = %0.2f)' % roc_auc)\n",
    "plt.plot([0,1],[0,1], color='navy', lw=2, linestyle='--')\n",
    "plt.xlim([-0.1,1.0])\n",
    "plt.ylim([-0.1,1.05])\n",
    "plt.xlabel('False Positive Rate', fontsize=20)\n",
    "plt.ylabel('True Positive Rate', fontsize=20)\n",
    "plt.title('ROC Curve', fontsize=20)\n",
    "plt.legend(loc=\"lower right\", fontsize=20)\n",
    "plt.show()"
   ]
  },
  {
   "cell_type": "code",
   "execution_count": 171,
   "metadata": {},
   "outputs": [
    {
     "data": {
      "image/png": "[encoded data removed]",
      "text/plain": [
       "<Figure size 576x576 with 2 Axes>"
      ]
     },
     "metadata": {
      "needs_background": "light"
     },
     "output_type": "display_data"
    }
   ],
   "source": [
    "# plot da matriz de confusão\n",
    "cm_mean = confusion_matrix(df['diagnosis'], predicoes_mean)\n",
    "\n",
    "#matplotlib\n",
    "plt.figure(figsize=(8, 8))\n",
    "plt.imshow(cm_mean, cmap=plt.cm.Blues)\n",
    "\n",
    "plt.title('Confusion Matrix')\n",
    "plt.xlabel('Predicted Labels')\n",
    "plt.ylabel('True Labels')\n",
    "plt.colorbar()\n",
    "\n",
    "plt.xticks(np.arange(2))\n",
    "plt.yticks(np.arange(2))\n",
    "\n",
    "# Add text inside each square of the confusion matrix\n",
    "for i in range(2):\n",
    "    for j in range(2):\n",
    "        plt.text(j, i, str(cm_mean[i, j]), ha='center', va='center', color='black')\n",
    "\n",
    "plt.show()"
   ]
  },
  {
   "cell_type": "code",
   "execution_count": 210,
   "metadata": {},
   "outputs": [
    {
     "name": "stdout",
     "output_type": "stream",
     "text": [
      "A acurácia do modelo foi 0.9314586994727593\n",
      "A sensibilidade do modelo foi 0.9386792452830188\n",
      "A especificidade do modelo foi 0.927170868347339\n",
      "A precisão do modelo foi 0.8844444444444445\n",
      "O f1-score do modelo foi 0.9107551487414187\n"
     ]
    }
   ],
   "source": [
    "#acurácia, sensibilidade, especificidade, precisão e f1-score\n",
    "acuracia_mean = (cm_mean[0,0] + cm_mean[1,1]) / sum(sum(cm_mean))\n",
    "sensibilidade_mean = cm_mean[1,1] / (cm_mean[1,0] + cm_mean[1,1])\n",
    "especificidade_mean = cm_mean[0,0] / (cm_mean[0,0] + cm_mean[0,1])\n",
    "precisao_mean = cm_mean[1,1] / (cm_mean[0,1] + cm_mean[1,1])\n",
    "f1_score_mean = 2 * (precisao_mean * sensibilidade_mean) / (precisao_mean + sensibilidade_mean)\n",
    "print(f\"A acurácia do modelo foi {acuracia_mean}\")\n",
    "print(f\"A sensibilidade do modelo foi {sensibilidade_mean}\")\n",
    "print(f\"A especificidade do modelo foi {especificidade_mean}\")\n",
    "print(f\"A precisão do modelo foi {precisao_mean}\")\n",
    "print(f\"O f1-score do modelo foi {f1_score_mean}\")"
   ]
  },
  {
   "attachments": {},
   "cell_type": "markdown",
   "metadata": {},
   "source": [
    "# Modelo SE"
   ]
  },
  {
   "cell_type": "code",
   "execution_count": 172,
   "metadata": {},
   "outputs": [
    {
     "name": "stdout",
     "output_type": "stream",
     "text": [
      "Optimization terminated successfully.\n",
      "         Current function value: 0.233671\n",
      "         Iterations 11\n"
     ]
    },
    {
     "data": {
      "text/html": [
       "<table class=\"simpletable\">\n",
       "<caption>Logit Regression Results</caption>\n",
       "<tr>\n",
       "  <th>Dep. Variable:</th>       <td>diagnosis</td>    <th>  No. Observations:  </th>  <td>   569</td>  \n",
       "</tr>\n",
       "<tr>\n",
       "  <th>Model:</th>                 <td>Logit</td>      <th>  Df Residuals:      </th>  <td>   558</td>  \n",
       "</tr>\n",
       "<tr>\n",
       "  <th>Method:</th>                 <td>MLE</td>       <th>  Df Model:          </th>  <td>    10</td>  \n",
       "</tr>\n",
       "<tr>\n",
       "  <th>Date:</th>            <td>Mon, 26 Jun 2023</td> <th>  Pseudo R-squ.:     </th>  <td>0.6461</td>  \n",
       "</tr>\n",
       "<tr>\n",
       "  <th>Time:</th>                <td>11:30:34</td>     <th>  Log-Likelihood:    </th> <td> -132.96</td> \n",
       "</tr>\n",
       "<tr>\n",
       "  <th>converged:</th>             <td>True</td>       <th>  LL-Null:           </th> <td> -375.72</td> \n",
       "</tr>\n",
       "<tr>\n",
       "  <th>Covariance Type:</th>     <td>nonrobust</td>    <th>  LLR p-value:       </th> <td>5.468e-98</td>\n",
       "</tr>\n",
       "</table>\n",
       "<table class=\"simpletable\">\n",
       "<tr>\n",
       "            <td></td>              <th>coef</th>     <th>std err</th>      <th>z</th>      <th>P>|z|</th>  <th>[0.025</th>    <th>0.975]</th>  \n",
       "</tr>\n",
       "<tr>\n",
       "  <th>Intercept</th>            <td>   -3.3922</td> <td>    0.636</td> <td>   -5.335</td> <td> 0.000</td> <td>   -4.638</td> <td>   -2.146</td>\n",
       "</tr>\n",
       "<tr>\n",
       "  <th>radius_se</th>            <td>  -28.2292</td> <td>    6.138</td> <td>   -4.599</td> <td> 0.000</td> <td>  -40.260</td> <td>  -16.199</td>\n",
       "</tr>\n",
       "<tr>\n",
       "  <th>texture_se</th>           <td>   -0.3339</td> <td>    0.423</td> <td>   -0.789</td> <td> 0.430</td> <td>   -1.163</td> <td>    0.495</td>\n",
       "</tr>\n",
       "<tr>\n",
       "  <th>perimeter_se</th>         <td>    0.0751</td> <td>    0.476</td> <td>    0.158</td> <td> 0.875</td> <td>   -0.858</td> <td>    1.008</td>\n",
       "</tr>\n",
       "<tr>\n",
       "  <th>area_se</th>              <td>    0.3935</td> <td>    0.057</td> <td>    6.890</td> <td> 0.000</td> <td>    0.282</td> <td>    0.505</td>\n",
       "</tr>\n",
       "<tr>\n",
       "  <th>smoothness_se</th>        <td>    4.1996</td> <td>   98.694</td> <td>    0.043</td> <td> 0.966</td> <td> -189.238</td> <td>  197.637</td>\n",
       "</tr>\n",
       "<tr>\n",
       "  <th>compactness_se</th>       <td>   57.2538</td> <td>   28.689</td> <td>    1.996</td> <td> 0.046</td> <td>    1.025</td> <td>  113.483</td>\n",
       "</tr>\n",
       "<tr>\n",
       "  <th>concavity_se</th>         <td>    3.6141</td> <td>   11.952</td> <td>    0.302</td> <td> 0.762</td> <td>  -19.810</td> <td>   27.039</td>\n",
       "</tr>\n",
       "<tr>\n",
       "  <th>concave_points_se</th>    <td>   39.7669</td> <td>   64.176</td> <td>    0.620</td> <td> 0.535</td> <td>  -86.015</td> <td>  165.549</td>\n",
       "</tr>\n",
       "<tr>\n",
       "  <th>symmetry_se</th>          <td>   -6.7619</td> <td>   30.459</td> <td>   -0.222</td> <td> 0.824</td> <td>  -66.460</td> <td>   52.936</td>\n",
       "</tr>\n",
       "<tr>\n",
       "  <th>fractal_dimension_se</th> <td> -318.7333</td> <td>  149.297</td> <td>   -2.135</td> <td> 0.033</td> <td> -611.349</td> <td>  -26.117</td>\n",
       "</tr>\n",
       "</table><br/><br/>Possibly complete quasi-separation: A fraction 0.13 of observations can be<br/>perfectly predicted. This might indicate that there is complete<br/>quasi-separation. In this case some parameters will not be identified."
      ],
      "text/plain": [
       "<class 'statsmodels.iolib.summary.Summary'>\n",
       "\"\"\"\n",
       "                           Logit Regression Results                           \n",
       "==============================================================================\n",
       "Dep. Variable:              diagnosis   No. Observations:                  569\n",
       "Model:                          Logit   Df Residuals:                      558\n",
       "Method:                           MLE   Df Model:                           10\n",
       "Date:                Mon, 26 Jun 2023   Pseudo R-squ.:                  0.6461\n",
       "Time:                        11:30:34   Log-Likelihood:                -132.96\n",
       "converged:                       True   LL-Null:                       -375.72\n",
       "Covariance Type:            nonrobust   LLR p-value:                 5.468e-98\n",
       "========================================================================================\n",
       "                           coef    std err          z      P>|z|      [0.025      0.975]\n",
       "----------------------------------------------------------------------------------------\n",
       "Intercept               -3.3922      0.636     -5.335      0.000      -4.638      -2.146\n",
       "radius_se              -28.2292      6.138     -4.599      0.000     -40.260     -16.199\n",
       "texture_se              -0.3339      0.423     -0.789      0.430      -1.163       0.495\n",
       "perimeter_se             0.0751      0.476      0.158      0.875      -0.858       1.008\n",
       "area_se                  0.3935      0.057      6.890      0.000       0.282       0.505\n",
       "smoothness_se            4.1996     98.694      0.043      0.966    -189.238     197.637\n",
       "compactness_se          57.2538     28.689      1.996      0.046       1.025     113.483\n",
       "concavity_se             3.6141     11.952      0.302      0.762     -19.810      27.039\n",
       "concave_points_se       39.7669     64.176      0.620      0.535     -86.015     165.549\n",
       "symmetry_se             -6.7619     30.459     -0.222      0.824     -66.460      52.936\n",
       "fractal_dimension_se  -318.7333    149.297     -2.135      0.033    -611.349     -26.117\n",
       "========================================================================================\n",
       "\n",
       "Possibly complete quasi-separation: A fraction 0.13 of observations can be\n",
       "perfectly predicted. This might indicate that there is complete\n",
       "quasi-separation. In this case some parameters will not be identified.\n",
       "\"\"\""
      ]
     },
     "execution_count": 172,
     "metadata": {},
     "output_type": "execute_result"
    }
   ],
   "source": [
    "#modelo de regressão logística com statsmodels\n",
    "model_se = sm.Logit.from_formula(\"diagnosis ~ radius_se + texture_se + perimeter_se + area_se + smoothness_se + compactness_se + concavity_se + concave_points_se + symmetry_se + fractal_dimension_se\", data = df).fit()\n",
    "model_se.summary()"
   ]
  },
  {
   "cell_type": "code",
   "execution_count": 173,
   "metadata": {},
   "outputs": [
    {
     "name": "stdout",
     "output_type": "stream",
     "text": [
      "O aic do modelo foi 287.91753695797547\n"
     ]
    }
   ],
   "source": [
    "print(f\"O aic do modelo foi {model_se.aic}\")"
   ]
  },
  {
   "cell_type": "code",
   "execution_count": 174,
   "metadata": {},
   "outputs": [
    {
     "data": {
      "image/png": "[encoded data removed]",
      "text/plain": [
       "<Figure size 720x720 with 1 Axes>"
      ]
     },
     "metadata": {
      "needs_background": "light"
     },
     "output_type": "display_data"
    }
   ],
   "source": [
    "# definindo predições como 0 e 1 para plotar a curva ROC\n",
    "predicoes_se = model_se.predict()\n",
    "predicoes_se = np.where(predicoes_se > 0.3, 1, 0)\n",
    "#curva ROC\n",
    "fpr, tpr, thresholds = roc_curve(df['diagnosis'], predicoes_se)\n",
    "roc_auc = auc(fpr, tpr) \n",
    "\n",
    "#plotando a curva ROC\n",
    "plt.figure(figsize=(10,10))\n",
    "plt.plot(fpr, tpr, color='darkorange', lw=2, label='ROC curve (area = %0.2f)' % roc_auc)\n",
    "plt.plot([0,1],[0,1], color='navy', lw=2, linestyle='--')\n",
    "plt.xlim([-0.1,1.0])\n",
    "plt.ylim([-0.1,1.05])\n",
    "plt.xlabel('False Positive Rate', fontsize=20)\n",
    "plt.ylabel('True Positive Rate', fontsize=20)\n",
    "plt.title('ROC Curve', fontsize=20)\n",
    "plt.legend(loc=\"lower right\", fontsize=20)\n",
    "plt.show()"
   ]
  },
  {
   "cell_type": "code",
   "execution_count": 175,
   "metadata": {},
   "outputs": [
    {
     "data": {
      "image/png": "[encoded data removed]",
      "text/plain": [
       "<Figure size 576x576 with 2 Axes>"
      ]
     },
     "metadata": {
      "needs_background": "light"
     },
     "output_type": "display_data"
    }
   ],
   "source": [
    "# plot da matriz de confusão\n",
    "cm_se = confusion_matrix(df['diagnosis'], predicoes_se)\n",
    "\n",
    "#matplotlib\n",
    "plt.figure(figsize=(8, 8))\n",
    "plt.imshow(cm_se, cmap=plt.cm.Blues)\n",
    "\n",
    "plt.title('Confusion Matrix')\n",
    "plt.xlabel('Predicted Labels')\n",
    "plt.ylabel('True Labels')\n",
    "plt.colorbar()\n",
    "\n",
    "plt.xticks(np.arange(2))\n",
    "plt.yticks(np.arange(2))\n",
    "\n",
    "# Add text inside each square of the confusion matrix\n",
    "for i in range(2):\n",
    "    for j in range(2):\n",
    "        plt.text(j, i, str(cm_se[i, j]), ha='center', va='center', color='black')\n",
    "\n",
    "plt.show()"
   ]
  },
  {
   "cell_type": "code",
   "execution_count": 211,
   "metadata": {},
   "outputs": [
    {
     "name": "stdout",
     "output_type": "stream",
     "text": [
      "A acurácia do modelo foi 0.8927943760984183\n",
      "A sensibilidade do modelo foi 0.8679245283018868\n",
      "A especificidade do modelo foi 0.907563025210084\n",
      "A precisão do modelo foi 0.847926267281106\n",
      "O f1-score do modelo foi 0.8578088578088577\n"
     ]
    }
   ],
   "source": [
    "#acurácia, sensibilidade, especificidade, precisão e f1-score\n",
    "acuracia_se = (cm_se[0,0] + cm_se[1,1]) / sum(sum(cm_se))\n",
    "sensibilidade_se = cm_se[1,1] / (cm_se[1,0] + cm_se[1,1])\n",
    "especificidade_se = cm_se[0,0] / (cm_se[0,0] + cm_se[0,1])\n",
    "precisao_se = cm_se[1,1] / (cm_se[0,1] + cm_se[1,1])\n",
    "f1_score_se = 2 * (precisao_se * sensibilidade_se) / (precisao_se + sensibilidade_se)\n",
    "print(f\"A acurácia do modelo foi {acuracia_se}\")\n",
    "print(f\"A sensibilidade do modelo foi {sensibilidade_se}\")\n",
    "print(f\"A especificidade do modelo foi {especificidade_se}\")\n",
    "print(f\"A precisão do modelo foi {precisao_se}\")\n",
    "print(f\"O f1-score do modelo foi {f1_score_se}\")"
   ]
  },
  {
   "attachments": {},
   "cell_type": "markdown",
   "metadata": {},
   "source": [
    "# Modelo Worst"
   ]
  },
  {
   "cell_type": "code",
   "execution_count": 166,
   "metadata": {},
   "outputs": [
    {
     "name": "stdout",
     "output_type": "stream",
     "text": [
      "Optimization terminated successfully.\n",
      "         Current function value: 0.073433\n",
      "         Iterations 11\n"
     ]
    },
    {
     "data": {
      "text/html": [
       "<table class=\"simpletable\">\n",
       "<caption>Logit Regression Results</caption>\n",
       "<tr>\n",
       "  <th>Dep. Variable:</th>       <td>diagnosis</td>    <th>  No. Observations:  </th>   <td>   569</td>  \n",
       "</tr>\n",
       "<tr>\n",
       "  <th>Model:</th>                 <td>Logit</td>      <th>  Df Residuals:      </th>   <td>   558</td>  \n",
       "</tr>\n",
       "<tr>\n",
       "  <th>Method:</th>                 <td>MLE</td>       <th>  Df Model:          </th>   <td>    10</td>  \n",
       "</tr>\n",
       "<tr>\n",
       "  <th>Date:</th>            <td>Mon, 26 Jun 2023</td> <th>  Pseudo R-squ.:     </th>   <td>0.8888</td>  \n",
       "</tr>\n",
       "<tr>\n",
       "  <th>Time:</th>                <td>11:27:41</td>     <th>  Log-Likelihood:    </th>  <td> -41.784</td> \n",
       "</tr>\n",
       "<tr>\n",
       "  <th>converged:</th>             <td>True</td>       <th>  LL-Null:           </th>  <td> -375.72</td> \n",
       "</tr>\n",
       "<tr>\n",
       "  <th>Covariance Type:</th>     <td>nonrobust</td>    <th>  LLR p-value:       </th> <td>4.930e-137</td>\n",
       "</tr>\n",
       "</table>\n",
       "<table class=\"simpletable\">\n",
       "<tr>\n",
       "             <td></td>                <th>coef</th>     <th>std err</th>      <th>z</th>      <th>P>|z|</th>  <th>[0.025</th>    <th>0.975]</th>  \n",
       "</tr>\n",
       "<tr>\n",
       "  <th>Intercept</th>               <td>  -29.0015</td> <td>   13.495</td> <td>   -2.149</td> <td> 0.032</td> <td>  -55.451</td> <td>   -2.552</td>\n",
       "</tr>\n",
       "<tr>\n",
       "  <th>radius_worst</th>            <td>   -0.5354</td> <td>    1.531</td> <td>   -0.350</td> <td> 0.727</td> <td>   -3.536</td> <td>    2.465</td>\n",
       "</tr>\n",
       "<tr>\n",
       "  <th>texture_worst</th>           <td>    0.2825</td> <td>    0.060</td> <td>    4.705</td> <td> 0.000</td> <td>    0.165</td> <td>    0.400</td>\n",
       "</tr>\n",
       "<tr>\n",
       "  <th>perimeter_worst</th>         <td>    0.0130</td> <td>    0.128</td> <td>    0.101</td> <td> 0.919</td> <td>   -0.239</td> <td>    0.265</td>\n",
       "</tr>\n",
       "<tr>\n",
       "  <th>area_worst</th>              <td>    0.0188</td> <td>    0.015</td> <td>    1.282</td> <td> 0.200</td> <td>   -0.010</td> <td>    0.047</td>\n",
       "</tr>\n",
       "<tr>\n",
       "  <th>smoothness_worst</th>        <td>   53.9434</td> <td>   21.880</td> <td>    2.465</td> <td> 0.014</td> <td>   11.059</td> <td>   96.828</td>\n",
       "</tr>\n",
       "<tr>\n",
       "  <th>compactness_worst</th>       <td>   -8.3172</td> <td>    8.448</td> <td>   -0.985</td> <td> 0.325</td> <td>  -24.874</td> <td>    8.240</td>\n",
       "</tr>\n",
       "<tr>\n",
       "  <th>concavity_worst</th>         <td>    4.5799</td> <td>    3.372</td> <td>    1.358</td> <td> 0.174</td> <td>   -2.029</td> <td>   11.188</td>\n",
       "</tr>\n",
       "<tr>\n",
       "  <th>concave_points_worst</th>    <td>   37.5487</td> <td>   16.156</td> <td>    2.324</td> <td> 0.020</td> <td>    5.884</td> <td>   69.213</td>\n",
       "</tr>\n",
       "<tr>\n",
       "  <th>symmetry_worst</th>          <td>    9.6223</td> <td>    5.847</td> <td>    1.646</td> <td> 0.100</td> <td>   -1.838</td> <td>   21.082</td>\n",
       "</tr>\n",
       "<tr>\n",
       "  <th>fractal_dimension_worst</th> <td>   -7.8746</td> <td>   49.292</td> <td>   -0.160</td> <td> 0.873</td> <td> -104.486</td> <td>   88.737</td>\n",
       "</tr>\n",
       "</table><br/><br/>Possibly complete quasi-separation: A fraction 0.38 of observations can be<br/>perfectly predicted. This might indicate that there is complete<br/>quasi-separation. In this case some parameters will not be identified."
      ],
      "text/plain": [
       "<class 'statsmodels.iolib.summary.Summary'>\n",
       "\"\"\"\n",
       "                           Logit Regression Results                           \n",
       "==============================================================================\n",
       "Dep. Variable:              diagnosis   No. Observations:                  569\n",
       "Model:                          Logit   Df Residuals:                      558\n",
       "Method:                           MLE   Df Model:                           10\n",
       "Date:                Mon, 26 Jun 2023   Pseudo R-squ.:                  0.8888\n",
       "Time:                        11:27:41   Log-Likelihood:                -41.784\n",
       "converged:                       True   LL-Null:                       -375.72\n",
       "Covariance Type:            nonrobust   LLR p-value:                4.930e-137\n",
       "===========================================================================================\n",
       "                              coef    std err          z      P>|z|      [0.025      0.975]\n",
       "-------------------------------------------------------------------------------------------\n",
       "Intercept                 -29.0015     13.495     -2.149      0.032     -55.451      -2.552\n",
       "radius_worst               -0.5354      1.531     -0.350      0.727      -3.536       2.465\n",
       "texture_worst               0.2825      0.060      4.705      0.000       0.165       0.400\n",
       "perimeter_worst             0.0130      0.128      0.101      0.919      -0.239       0.265\n",
       "area_worst                  0.0188      0.015      1.282      0.200      -0.010       0.047\n",
       "smoothness_worst           53.9434     21.880      2.465      0.014      11.059      96.828\n",
       "compactness_worst          -8.3172      8.448     -0.985      0.325     -24.874       8.240\n",
       "concavity_worst             4.5799      3.372      1.358      0.174      -2.029      11.188\n",
       "concave_points_worst       37.5487     16.156      2.324      0.020       5.884      69.213\n",
       "symmetry_worst              9.6223      5.847      1.646      0.100      -1.838      21.082\n",
       "fractal_dimension_worst    -7.8746     49.292     -0.160      0.873    -104.486      88.737\n",
       "===========================================================================================\n",
       "\n",
       "Possibly complete quasi-separation: A fraction 0.38 of observations can be\n",
       "perfectly predicted. This might indicate that there is complete\n",
       "quasi-separation. In this case some parameters will not be identified.\n",
       "\"\"\""
      ]
     },
     "execution_count": 166,
     "metadata": {},
     "output_type": "execute_result"
    }
   ],
   "source": [
    "#modelo de regressão logística com statsmodels\n",
    "model_worst = sm.Logit.from_formula(\"diagnosis ~ radius_worst + texture_worst + perimeter_worst + area_worst + smoothness_worst + compactness_worst + concavity_worst + concave_points_worst + symmetry_worst + fractal_dimension_worst\", data = df).fit()\n",
    "model_worst.summary()"
   ]
  },
  {
   "cell_type": "code",
   "execution_count": 167,
   "metadata": {},
   "outputs": [
    {
     "name": "stdout",
     "output_type": "stream",
     "text": [
      "O aic do modelo foi 105.56701755834847\n"
     ]
    }
   ],
   "source": [
    "print(f\"O aic do modelo foi {model_worst.aic}\")"
   ]
  },
  {
   "cell_type": "code",
   "execution_count": 179,
   "metadata": {},
   "outputs": [
    {
     "data": {
      "image/png": "[encoded data removed]",
      "text/plain": [
       "<Figure size 720x720 with 1 Axes>"
      ]
     },
     "metadata": {
      "needs_background": "light"
     },
     "output_type": "display_data"
    }
   ],
   "source": [
    "# definindo predições como 0 e 1 para plotar a curva ROC\n",
    "predicoes_worst = model_worst.predict()\n",
    "predicoes_worst = np.where(predicoes_worst > 0.3, 1, 0)\n",
    "#curva ROC\n",
    "fpr, tpr, thresholds = roc_curve(df['diagnosis'], predicoes_worst)\n",
    "roc_auc = auc(fpr, tpr) \n",
    "\n",
    "#plotando a curva ROC\n",
    "plt.figure(figsize=(10,10))\n",
    "plt.plot(fpr, tpr, color='darkorange', lw=2, label='ROC curve (area = %0.2f)' % roc_auc)\n",
    "plt.plot([0,1],[0,1], color='navy', lw=2, linestyle='--')\n",
    "plt.xlim([-0.1,1.0])\n",
    "plt.ylim([-0.1,1.05])\n",
    "plt.xlabel('False Positive Rate', fontsize=20)\n",
    "plt.ylabel('True Positive Rate', fontsize=20)\n",
    "plt.title('ROC Curve', fontsize=20)\n",
    "plt.legend(loc=\"lower right\", fontsize=20)\n",
    "plt.show()"
   ]
  },
  {
   "cell_type": "code",
   "execution_count": 180,
   "metadata": {},
   "outputs": [
    {
     "data": {
      "image/png": "[encoded data removed]",
      "text/plain": [
       "<Figure size 576x576 with 2 Axes>"
      ]
     },
     "metadata": {
      "needs_background": "light"
     },
     "output_type": "display_data"
    }
   ],
   "source": [
    "# plot da matriz de confusão\n",
    "cm_worst = confusion_matrix(df['diagnosis'], predicoes_worst)\n",
    "\n",
    "#matplotlib\n",
    "plt.figure(figsize=(8, 8))\n",
    "plt.imshow(cm_worst, cmap=plt.cm.Blues)\n",
    "\n",
    "plt.title('Confusion Matrix')\n",
    "plt.xlabel('Predicted Labels')\n",
    "plt.ylabel('True Labels')\n",
    "plt.colorbar()\n",
    "\n",
    "plt.xticks(np.arange(2))\n",
    "plt.yticks(np.arange(2))\n",
    "\n",
    "# Add text inside each square of the confusion matrix\n",
    "for i in range(2):\n",
    "    for j in range(2):\n",
    "        plt.text(j, i, str(cm_worst[i, j]), ha='center', va='center', color='black')\n",
    "\n",
    "plt.show()"
   ]
  },
  {
   "cell_type": "code",
   "execution_count": 212,
   "metadata": {},
   "outputs": [
    {
     "name": "stdout",
     "output_type": "stream",
     "text": [
      "A acurácia do modelo foi 0.968365553602812\n",
      "A sensibilidade do modelo foi 0.9764150943396226\n",
      "A especificidade do modelo foi 0.9635854341736695\n",
      "A precisão do modelo foi 0.9409090909090909\n",
      "O f1-score do modelo foi 0.9583333333333334\n"
     ]
    }
   ],
   "source": [
    "#acurácia, sensibilidade, especificidade, precisão e f1-score\n",
    "acuracia_worst = (cm_worst[0,0] + cm_worst[1,1]) / sum(sum(cm_worst))\n",
    "sensibilidade_worst = cm_worst[1,1] / (cm_worst[1,0] + cm_worst[1,1])\n",
    "especificidade_worst = cm_worst[0,0] / (cm_worst[0,0] + cm_worst[0,1])\n",
    "precisao_worst = cm_worst[1,1] / (cm_worst[0,1] + cm_worst[1,1])\n",
    "f1_score_worst = 2 * (precisao_worst * sensibilidade_worst) / (precisao_worst + sensibilidade_worst)\n",
    "print(f\"A acurácia do modelo foi {acuracia_worst}\")\n",
    "print(f\"A sensibilidade do modelo foi {sensibilidade_worst}\")\n",
    "print(f\"A especificidade do modelo foi {especificidade_worst}\")\n",
    "print(f\"A precisão do modelo foi {precisao_worst}\")\n",
    "print(f\"O f1-score do modelo foi {f1_score_worst}\")"
   ]
  },
  {
   "cell_type": "code",
   "execution_count": 181,
   "metadata": {},
   "outputs": [
    {
     "name": "stdout",
     "output_type": "stream",
     "text": [
      "O aic do modelo com mean foi 168.13041843396468\n",
      "O aic do modelo com se foi 287.91753695797547\n",
      "O aic do modelo com worst foi 105.56701755834847\n"
     ]
    }
   ],
   "source": [
    "#comparativo dos aic's\n",
    "print(f\"O aic do modelo com mean foi {model_mean.aic}\")\n",
    "print(f\"O aic do modelo com se foi {model_se.aic}\")\n",
    "print(f\"O aic do modelo com worst foi {model_worst.aic}\")"
   ]
  },
  {
   "cell_type": "code",
   "execution_count": 213,
   "metadata": {},
   "outputs": [
    {
     "name": "stdout",
     "output_type": "stream",
     "text": [
      "A sensibilidade do modelo com mean foi 0.9386792452830188\n",
      "A sensibilidade do modelo com se foi 0.8679245283018868\n",
      "A sensibilidade do modelo com worst foi 0.9764150943396226\n"
     ]
    }
   ],
   "source": [
    "#comparativo das sensibilidades\n",
    "print(f\"A sensibilidade do modelo com mean foi {sensibilidade_mean}\")\n",
    "print(f\"A sensibilidade do modelo com se foi {sensibilidade_se}\")\n",
    "print(f\"A sensibilidade do modelo com worst foi {sensibilidade_worst}\")"
   ]
  },
  {
   "cell_type": "code",
   "execution_count": 214,
   "metadata": {},
   "outputs": [
    {
     "name": "stdout",
     "output_type": "stream",
     "text": [
      "O f1-score do modelo com mean foi 0.9107551487414187\n",
      "O f1-score do modelo com se foi 0.8578088578088577\n",
      "O f1-score do modelo com worst foi 0.9583333333333334\n"
     ]
    }
   ],
   "source": [
    "#comparativo dos f1-scores\n",
    "print(f\"O f1-score do modelo com mean foi {f1_score_mean}\")\n",
    "print(f\"O f1-score do modelo com se foi {f1_score_se}\")\n",
    "print(f\"O f1-score do modelo com worst foi {f1_score_worst}\")"
   ]
  },
  {
   "attachments": {},
   "cell_type": "markdown",
   "metadata": {},
   "source": [
    "# Modelo 3"
   ]
  },
  {
   "cell_type": "code",
   "execution_count": 188,
   "metadata": {},
   "outputs": [
    {
     "name": "stdout",
     "output_type": "stream",
     "text": [
      "Warning: Maximum number of iterations has been exceeded.\n",
      "         Current function value: 0.145591\n",
      "         Iterations: 35\n"
     ]
    },
    {
     "name": "stderr",
     "output_type": "stream",
     "text": [
      "c:\\ProgramData\\Anaconda3\\lib\\site-packages\\statsmodels\\base\\model.py:566: ConvergenceWarning: Maximum Likelihood optimization failed to converge. Check mle_retvals\n",
      "  warnings.warn(\"Maximum Likelihood optimization failed to \"\n"
     ]
    },
    {
     "data": {
      "text/html": [
       "<table class=\"simpletable\">\n",
       "<caption>Logit Regression Results</caption>\n",
       "<tr>\n",
       "  <th>Dep. Variable:</th>       <td>diagnosis</td>    <th>  No. Observations:  </th>   <td>   569</td>  \n",
       "</tr>\n",
       "<tr>\n",
       "  <th>Model:</th>                 <td>Logit</td>      <th>  Df Residuals:      </th>   <td>   553</td>  \n",
       "</tr>\n",
       "<tr>\n",
       "  <th>Method:</th>                 <td>MLE</td>       <th>  Df Model:          </th>   <td>    15</td>  \n",
       "</tr>\n",
       "<tr>\n",
       "  <th>Date:</th>            <td>Mon, 26 Jun 2023</td> <th>  Pseudo R-squ.:     </th>   <td>0.7795</td>  \n",
       "</tr>\n",
       "<tr>\n",
       "  <th>Time:</th>                <td>11:37:42</td>     <th>  Log-Likelihood:    </th>  <td> -82.841</td> \n",
       "</tr>\n",
       "<tr>\n",
       "  <th>converged:</th>             <td>False</td>      <th>  LL-Null:           </th>  <td> -375.72</td> \n",
       "</tr>\n",
       "<tr>\n",
       "  <th>Covariance Type:</th>     <td>nonrobust</td>    <th>  LLR p-value:       </th> <td>3.763e-115</td>\n",
       "</tr>\n",
       "</table>\n",
       "<table class=\"simpletable\">\n",
       "<tr>\n",
       "                      <td></td>                        <th>coef</th>     <th>std err</th>      <th>z</th>      <th>P>|z|</th>  <th>[0.025</th>    <th>0.975]</th>  \n",
       "</tr>\n",
       "<tr>\n",
       "  <th>Intercept</th>                                <td>    5.9872</td> <td>   11.187</td> <td>    0.535</td> <td> 0.593</td> <td>  -15.939</td> <td>   27.914</td>\n",
       "</tr>\n",
       "<tr>\n",
       "  <th>smoothness_mean</th>                          <td> -134.6967</td> <td>  109.033</td> <td>   -1.235</td> <td> 0.217</td> <td> -348.398</td> <td>   79.005</td>\n",
       "</tr>\n",
       "<tr>\n",
       "  <th>smoothness_se</th>                            <td>  161.2980</td> <td>  421.751</td> <td>    0.382</td> <td> 0.702</td> <td> -665.319</td> <td>  987.915</td>\n",
       "</tr>\n",
       "<tr>\n",
       "  <th>smoothness_worst</th>                         <td>   42.7411</td> <td>   69.031</td> <td>    0.619</td> <td> 0.536</td> <td>  -92.556</td> <td>  178.038</td>\n",
       "</tr>\n",
       "<tr>\n",
       "  <th>smoothness_mean:smoothness_worst</th>         <td>  -10.6134</td> <td>  777.221</td> <td>   -0.014</td> <td> 0.989</td> <td>-1533.938</td> <td> 1512.711</td>\n",
       "</tr>\n",
       "<tr>\n",
       "  <th>smoothness_se:smoothness_worst</th>           <td> -600.1329</td> <td> 2739.859</td> <td>   -0.219</td> <td> 0.827</td> <td>-5970.159</td> <td> 4769.893</td>\n",
       "</tr>\n",
       "<tr>\n",
       "  <th>concave_points_mean</th>                      <td>   44.1513</td> <td>   60.158</td> <td>    0.734</td> <td> 0.463</td> <td>  -73.755</td> <td>  162.058</td>\n",
       "</tr>\n",
       "<tr>\n",
       "  <th>concave_points_se</th>                        <td>  393.0103</td> <td>  220.983</td> <td>    1.778</td> <td> 0.075</td> <td>  -40.108</td> <td>  826.129</td>\n",
       "</tr>\n",
       "<tr>\n",
       "  <th>concave_points_worst</th>                     <td>   10.5409</td> <td>   19.442</td> <td>    0.542</td> <td> 0.588</td> <td>  -27.566</td> <td>   48.647</td>\n",
       "</tr>\n",
       "<tr>\n",
       "  <th>concave_points_mean:concave_points_worst</th> <td>  940.9138</td> <td>  483.006</td> <td>    1.948</td> <td> 0.051</td> <td>   -5.760</td> <td> 1887.588</td>\n",
       "</tr>\n",
       "<tr>\n",
       "  <th>concave_points_se:concave_points_worst</th>   <td>-3743.6121</td> <td> 1575.793</td> <td>   -2.376</td> <td> 0.018</td> <td>-6832.110</td> <td> -655.114</td>\n",
       "</tr>\n",
       "<tr>\n",
       "  <th>symmetry_mean</th>                            <td>  -41.8060</td> <td>   57.678</td> <td>   -0.725</td> <td> 0.469</td> <td> -154.853</td> <td>   71.241</td>\n",
       "</tr>\n",
       "<tr>\n",
       "  <th>symmetry_se</th>                              <td> -363.1949</td> <td>  229.002</td> <td>   -1.586</td> <td> 0.113</td> <td> -812.030</td> <td>   85.640</td>\n",
       "</tr>\n",
       "<tr>\n",
       "  <th>symmetry_worst</th>                           <td>   -6.6584</td> <td>   36.052</td> <td>   -0.185</td> <td> 0.853</td> <td>  -77.318</td> <td>   64.001</td>\n",
       "</tr>\n",
       "<tr>\n",
       "  <th>symmetry_mean:symmetry_worst</th>             <td>   62.2307</td> <td>  209.379</td> <td>    0.297</td> <td> 0.766</td> <td> -348.144</td> <td>  472.605</td>\n",
       "</tr>\n",
       "<tr>\n",
       "  <th>symmetry_se:symmetry_worst</th>               <td>  913.6255</td> <td>  743.027</td> <td>    1.230</td> <td> 0.219</td> <td> -542.680</td> <td> 2369.931</td>\n",
       "</tr>\n",
       "</table><br/><br/>Possibly complete quasi-separation: A fraction 0.15 of observations can be<br/>perfectly predicted. This might indicate that there is complete<br/>quasi-separation. In this case some parameters will not be identified."
      ],
      "text/plain": [
       "<class 'statsmodels.iolib.summary.Summary'>\n",
       "\"\"\"\n",
       "                           Logit Regression Results                           \n",
       "==============================================================================\n",
       "Dep. Variable:              diagnosis   No. Observations:                  569\n",
       "Model:                          Logit   Df Residuals:                      553\n",
       "Method:                           MLE   Df Model:                           15\n",
       "Date:                Mon, 26 Jun 2023   Pseudo R-squ.:                  0.7795\n",
       "Time:                        11:37:42   Log-Likelihood:                -82.841\n",
       "converged:                      False   LL-Null:                       -375.72\n",
       "Covariance Type:            nonrobust   LLR p-value:                3.763e-115\n",
       "============================================================================================================\n",
       "                                               coef    std err          z      P>|z|      [0.025      0.975]\n",
       "------------------------------------------------------------------------------------------------------------\n",
       "Intercept                                    5.9872     11.187      0.535      0.593     -15.939      27.914\n",
       "smoothness_mean                           -134.6967    109.033     -1.235      0.217    -348.398      79.005\n",
       "smoothness_se                              161.2980    421.751      0.382      0.702    -665.319     987.915\n",
       "smoothness_worst                            42.7411     69.031      0.619      0.536     -92.556     178.038\n",
       "smoothness_mean:smoothness_worst           -10.6134    777.221     -0.014      0.989   -1533.938    1512.711\n",
       "smoothness_se:smoothness_worst            -600.1329   2739.859     -0.219      0.827   -5970.159    4769.893\n",
       "concave_points_mean                         44.1513     60.158      0.734      0.463     -73.755     162.058\n",
       "concave_points_se                          393.0103    220.983      1.778      0.075     -40.108     826.129\n",
       "concave_points_worst                        10.5409     19.442      0.542      0.588     -27.566      48.647\n",
       "concave_points_mean:concave_points_worst   940.9138    483.006      1.948      0.051      -5.760    1887.588\n",
       "concave_points_se:concave_points_worst   -3743.6121   1575.793     -2.376      0.018   -6832.110    -655.114\n",
       "symmetry_mean                              -41.8060     57.678     -0.725      0.469    -154.853      71.241\n",
       "symmetry_se                               -363.1949    229.002     -1.586      0.113    -812.030      85.640\n",
       "symmetry_worst                              -6.6584     36.052     -0.185      0.853     -77.318      64.001\n",
       "symmetry_mean:symmetry_worst                62.2307    209.379      0.297      0.766    -348.144     472.605\n",
       "symmetry_se:symmetry_worst                 913.6255    743.027      1.230      0.219    -542.680    2369.931\n",
       "============================================================================================================\n",
       "\n",
       "Possibly complete quasi-separation: A fraction 0.15 of observations can be\n",
       "perfectly predicted. This might indicate that there is complete\n",
       "quasi-separation. In this case some parameters will not be identified.\n",
       "\"\"\""
      ]
     },
     "execution_count": 188,
     "metadata": {},
     "output_type": "execute_result"
    }
   ],
   "source": [
    "#modelo de regressão logística com statsmodels\n",
    "model_3 = sm.Logit.from_formula(\"diagnosis ~ ((smoothness_mean + smoothness_se) * smoothness_worst) + ((concave_points_mean + concave_points_se) * concave_points_worst) + ((symmetry_mean + symmetry_se) * symmetry_worst)\", data = df).fit()\n",
    "model_3.summary()"
   ]
  },
  {
   "cell_type": "code",
   "execution_count": 189,
   "metadata": {},
   "outputs": [
    {
     "name": "stdout",
     "output_type": "stream",
     "text": [
      "O aic do modelo foi 197.68289730892997\n"
     ]
    }
   ],
   "source": [
    "print(f\"O aic do modelo foi {model_3.aic}\")"
   ]
  },
  {
   "cell_type": "code",
   "execution_count": 190,
   "metadata": {},
   "outputs": [
    {
     "data": {
      "image/png": "[encoded data removed]",
      "text/plain": [
       "<Figure size 720x720 with 1 Axes>"
      ]
     },
     "metadata": {
      "needs_background": "light"
     },
     "output_type": "display_data"
    }
   ],
   "source": [
    "# definindo predições como 0 e 1 para plotar a curva ROC\n",
    "predicoes_3 = model_3.predict()\n",
    "predicoes_3 = np.where(predicoes_3 > 0.3, 1, 0)\n",
    "#curva ROC\n",
    "fpr, tpr, thresholds = roc_curve(df['diagnosis'], predicoes_3)\n",
    "roc_auc = auc(fpr, tpr) \n",
    "\n",
    "#plotando a curva ROC\n",
    "plt.figure(figsize=(10,10))\n",
    "plt.plot(fpr, tpr, color='darkorange', lw=2, label='ROC curve (area = %0.2f)' % roc_auc)\n",
    "plt.plot([0,1],[0,1], color='navy', lw=2, linestyle='--')\n",
    "plt.xlim([-0.1,1.0])\n",
    "plt.ylim([-0.1,1.05])\n",
    "plt.xlabel('False Positive Rate', fontsize=20)\n",
    "plt.ylabel('True Positive Rate', fontsize=20)\n",
    "plt.title('ROC Curve', fontsize=20)\n",
    "plt.legend(loc=\"lower right\", fontsize=20)\n",
    "plt.show()"
   ]
  },
  {
   "cell_type": "code",
   "execution_count": 191,
   "metadata": {},
   "outputs": [
    {
     "data": {
      "image/png": "[encoded data removed]",
      "text/plain": [
       "<Figure size 576x576 with 2 Axes>"
      ]
     },
     "metadata": {
      "needs_background": "light"
     },
     "output_type": "display_data"
    }
   ],
   "source": [
    "# plot da matriz de confusão\n",
    "cm_3 = confusion_matrix(df['diagnosis'], predicoes_3)\n",
    "\n",
    "#matplotlib\n",
    "plt.figure(figsize=(8, 8))\n",
    "plt.imshow(cm_3, cmap=plt.cm.Blues)\n",
    "\n",
    "plt.title('Confusion Matrix')\n",
    "plt.xlabel('Predicted Labels')\n",
    "plt.ylabel('True Labels')\n",
    "plt.colorbar()\n",
    "\n",
    "plt.xticks(np.arange(2))\n",
    "plt.yticks(np.arange(2))\n",
    "\n",
    "# Add text inside each square of the confusion matrix\n",
    "for i in range(2):\n",
    "    for j in range(2):\n",
    "        plt.text(j, i, str(cm_3[i, j]), ha='center', va='center', color='black')\n",
    "\n",
    "plt.show()"
   ]
  },
  {
   "cell_type": "code",
   "execution_count": 215,
   "metadata": {},
   "outputs": [
    {
     "name": "stdout",
     "output_type": "stream",
     "text": [
      "A acurácia do modelo foi 0.9314586994727593\n",
      "A sensibilidade do modelo foi 0.9245283018867925\n",
      "A especificidade do modelo foi 0.9355742296918768\n",
      "A precisão do modelo foi 0.8949771689497716\n",
      "O f1-score do modelo foi 0.9095127610208816\n"
     ]
    }
   ],
   "source": [
    "#acurácia, sensibilidade, especificidade, precisão e f1-score\n",
    "acuracia_3 = (cm_3[0,0] + cm_3[1,1]) / sum(sum(cm_3))\n",
    "sensibilidade_3 = cm_3[1,1] / (cm_3[1,0] + cm_3[1,1])\n",
    "especificidade_3 = cm_3[0,0] / (cm_3[0,0] + cm_3[0,1])\n",
    "precisao_3 = cm_3[1,1] / (cm_3[0,1] + cm_3[1,1])\n",
    "f1_score_3 = 2 * (precisao_3 * sensibilidade_3) / (precisao_3 + sensibilidade_3)\n",
    "print(f\"A acurácia do modelo foi {acuracia_3}\")\n",
    "print(f\"A sensibilidade do modelo foi {sensibilidade_3}\")\n",
    "print(f\"A especificidade do modelo foi {especificidade_3}\")\n",
    "print(f\"A precisão do modelo foi {precisao_3}\")\n",
    "print(f\"O f1-score do modelo foi {f1_score_3}\")"
   ]
  },
  {
   "cell_type": "code",
   "execution_count": 216,
   "metadata": {},
   "outputs": [
    {
     "name": "stdout",
     "output_type": "stream",
     "text": [
      "O aic do modelo 1 foi 256.993783383435\n",
      "O aic do modelo 2 foi 130.26518614616987\n",
      "O aic do modelo 3 foi 197.68289730892997\n"
     ]
    }
   ],
   "source": [
    "#comparativo dos aic's dos modelos 1, 2 e 3\n",
    "print(f\"O aic do modelo 1 foi {model_1.aic}\")\n",
    "print(f\"O aic do modelo 2 foi {model_2.aic}\")\n",
    "print(f\"O aic do modelo 3 foi {model_3.aic}\")"
   ]
  },
  {
   "cell_type": "code",
   "execution_count": 217,
   "metadata": {},
   "outputs": [
    {
     "name": "stdout",
     "output_type": "stream",
     "text": [
      "A sensibilidade do modelo 1 foi 0.9198113207547169\n",
      "A sensibilidade do modelo 2 foi 0.9716981132075472\n",
      "A sensibilidade do modelo 3 foi 0.9245283018867925\n"
     ]
    }
   ],
   "source": [
    "#comparativo da sensibilidade dos modelos 1, 2 e 3\n",
    "print(f\"A sensibilidade do modelo 1 foi {sensibilidade_1}\")\n",
    "print(f\"A sensibilidade do modelo 2 foi {sensibilidade_2}\")\n",
    "print(f\"A sensibilidade do modelo 3 foi {sensibilidade_3}\")"
   ]
  },
  {
   "cell_type": "code",
   "execution_count": 218,
   "metadata": {},
   "outputs": [
    {
     "name": "stdout",
     "output_type": "stream",
     "text": [
      "O f1-score do modelo 1 foi 0.87248322147651\n",
      "O f1-score do modelo 2 foi 0.9406392694063926\n",
      "O f1-score do modelo 3 foi 0.9095127610208816\n"
     ]
    }
   ],
   "source": [
    "#comparativo dos f1-scores dos modelos 1, 2 e 3\n",
    "print(f\"O f1-score do modelo 1 foi {f1_score_1}\")\n",
    "print(f\"O f1-score do modelo 2 foi {f1_score_2}\")\n",
    "print(f\"O f1-score do modelo 3 foi {f1_score_3}\")"
   ]
  },
  {
   "cell_type": "code",
   "execution_count": null,
   "metadata": {},
   "outputs": [],
   "source": []
  }
 ],
 "metadata": {
  "kernelspec": {
   "display_name": "base",
   "language": "python",
   "name": "python3"
  },
  "language_info": {
   "codemirror_mode": {
    "name": "ipython",
    "version": 3
   },
   "file_extension": ".py",
   "mimetype": "text/x-python",
   "name": "python",
   "nbconvert_exporter": "python",
   "pygments_lexer": "ipython3",
   "version": "3.8.8"
  },
  "orig_nbformat": 4
 },
 "nbformat": 4,
 "nbformat_minor": 2
}
